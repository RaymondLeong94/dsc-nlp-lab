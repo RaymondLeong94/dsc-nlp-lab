{
 "cells": [
  {
   "cell_type": "markdown",
   "metadata": {},
   "source": [
    "# Text Classification - Cumulative Lab\n",
    "\n",
    "## Introduction\n",
    "\n",
    "In this cumulative lab, we'll use everything we've learned so far to build a model that can classify a text document as one of many possible classes!\n",
    "\n",
    "## Objectives\n",
    "\n",
    "You will be able to:\n",
    "\n",
    "- Practice cleaning and exploring a text dataset with NLTK and base Python\n",
    "- Practice using scikit-learn vectorizers for text preprocessing\n",
    "- Tune a modeling process through exploration and model evaluation\n",
    "- Observe some techniques for feature engineering\n",
    "- Interpret the result of a final ML model that classifies text data"
   ]
  },
  {
   "cell_type": "markdown",
   "metadata": {},
   "source": [
    "## Your Task: Complete an End-to-End ML Process with the Newsgroups Dataset\n",
    "\n",
    "<a title=\"Bundesarchiv, B 145 Bild-F077948-0006 / Engelbert Reineke / CC-BY-SA 3.0, CC BY-SA 3.0 DE &lt;https://creativecommons.org/licenses/by-sa/3.0/de/deed.en&gt;, via Wikimedia Commons\" href=\"https://commons.wikimedia.org/wiki/File:Bundesarchiv_B_145_Bild-F077948-0006,_Jugend-Computerschule_mit_IBM-PC.jpg\"><img width=\"512\" alt=\"Bundesarchiv B 145 Bild-F077948-0006, Jugend-Computerschule mit IBM-PC\" src=\"https://upload.wikimedia.org/wikipedia/commons/e/e9/Bundesarchiv_B_145_Bild-F077948-0006%2C_Jugend-Computerschule_mit_IBM-PC.jpg\"></a>"
   ]
  },
  {
   "cell_type": "markdown",
   "metadata": {},
   "source": [
    "### Business Understanding\n",
    "\n",
    "The ***Newsgroups Dataset*** is a collection of [newsgroup](https://en.wikipedia.org/wiki/Usenet_newsgroup) posts originally collected around 1995. While the backend code implementation is fairly different, you can think of them as like the Reddit posts of 1995, where a \"category\" in this dataset is like a subreddit.\n",
    "\n",
    "The task is to try to identify the category where a post was published, based on the text content of the post.\n",
    "\n",
    "### Data Understanding\n",
    "\n",
    "#### Data Source\n",
    "\n",
    "Part of what you are practicing here is using the `sklearn.datasets` submodule, which you have seen before (e.g. the Iris Dataset, the Wine Dataset). You can see a full list of available dataset loaders [here](https://scikit-learn.org/stable/modules/classes.html#module-sklearn.datasets).\n",
    "\n",
    "In this case we will be using the `fetch_20newsgroups` function ([documentation here](https://scikit-learn.org/stable/modules/generated/sklearn.datasets.fetch_20newsgroups.html)). An important thing to note is that because this is text data, scikit-learn actually downloads a set of documents to the computer you are using to complete this lab, rather than just loading data into memory in Python.\n",
    "\n",
    "#### Features\n",
    "\n",
    "Prior to preprocessing, every row in the dataset only contains one feature: a string containing the full text of the newsgroup post. We will perform preprocessing to create additional features.\n",
    "\n",
    "#### Target\n",
    "\n",
    "As you might have guessed based on the function name, there are 20 categories in the full dataset. Here is a list of all the possible classes:\n",
    "\n",
    "<img src='classes.png'>\n",
    "\n",
    "This full dataset is quite large. To save us from extremely long runtimes, we'll work with only a subset of the classes. For this lab, we'll work with the following five:\n",
    "\n",
    "* `'comp.windows.x'`\n",
    "* `'rec.sport.hockey'`\n",
    "* `'misc.forsale'`\n",
    "* `'sci.crypt'`\n",
    "* `'talk.politics.misc'`"
   ]
  },
  {
   "cell_type": "markdown",
   "metadata": {},
   "source": [
    "### Requirements\n",
    "\n",
    "#### 1. Load the Data\n",
    "\n",
    "Use pandas and `sklearn.datasets` to load the train and test data into appropriate data structures. Then get a sense of what is in this dataset by visually inspecting some samples.\n",
    "\n",
    "#### 2. Perform Data Cleaning and Exploratory Data Analysis with `nltk`\n",
    "\n",
    "Standardize the case of the data and use a tokenizer to convert the full posts into lists of individual words. Then compare the raw word frequency distributions of each category.\n",
    "\n",
    "#### 3. Build and Evaluate a Baseline Model with `TfidfVectorizer` and `MultinomialNB`\n",
    "\n",
    "Ultimately all data must be in numeric form in order to be able to fit a scikit-learn model. So we'll use a tool from `sklearn.feature_extraction.text` to convert all data into a vectorized format.\n",
    "\n",
    "Initially we'll keep all of the default parameters for both the vectorizer and the model, in order to develop a baseline score.\n",
    "\n",
    "#### 4. Iteratively Perform and Evaluate Preprocessing and Feature Engineering Techniques\n",
    "\n",
    "Here you will investigate three techniques, to determine whether they should be part of our final modeling process:\n",
    "\n",
    "1. Removing stopwords\n",
    "2. Using custom tokens\n",
    "3. Domain-specific feature engineering\n",
    "4. Increasing `max_features`\n",
    "\n",
    "#### 5. Evaluate a Final Model on the Test Set\n",
    "\n",
    "Once you have chosen a final modeling process, fit it on the full training data and evaluate it on the test data. "
   ]
  },
  {
   "cell_type": "markdown",
   "metadata": {},
   "source": [
    "## 1. Load the Data\n",
    "\n",
    "In the cell below, create the variables `newsgroups_train` and `newsgroups_test` by calling the `fetch_20newsgroups` function twice.\n",
    "\n",
    "For the train set, specify `subset=\"train\"`. For the test set, specify `subset=\"test\"`.\n",
    "\n",
    "Additionally, pass in `remove=('headers', 'footers', 'quotes')` in both function calls, in order to automatically remove some metadata that can lead to overfitting.\n",
    "\n",
    "Recall that we are loading only five categories, out of the full 20. So, pass in `categories=categories` both times."
   ]
  },
  {
   "cell_type": "code",
   "execution_count": 1,
   "metadata": {},
   "outputs": [],
   "source": [
    "from sklearn.datasets import fetch_20newsgroups\n",
    "\n",
    "categories = [\n",
    "    'comp.windows.x',\n",
    "    'rec.sport.hockey',\n",
    "    'misc.forsale',\n",
    "    'sci.crypt',\n",
    "    'talk.politics.misc'\n",
    "]\n",
    "\n",
    "newsgroups_train = fetch_20newsgroups(\n",
    "    subset=\"train\",\n",
    "    remove=('headers', 'footers', 'quotes'),\n",
    "    categories=categories\n",
    ")\n",
    "\n",
    "newsgroups_test = fetch_20newsgroups(\n",
    "    subset=\"test\",\n",
    "    remove=('headers', 'footers', 'quotes'),\n",
    "    categories=categories\n",
    ")"
   ]
  },
  {
   "cell_type": "markdown",
   "metadata": {},
   "source": [
    "Each of the returned objects is a dictionary-like `Bunch` ([documentation here](https://scikit-learn.org/stable/modules/generated/sklearn.utils.Bunch.html)):"
   ]
  },
  {
   "cell_type": "code",
   "execution_count": 2,
   "metadata": {},
   "outputs": [
    {
     "data": {
      "text/plain": [
       "sklearn.utils.Bunch"
      ]
     },
     "execution_count": 2,
     "metadata": {},
     "output_type": "execute_result"
    }
   ],
   "source": [
    "# Run this cell without changes\n",
    "type(newsgroups_train)"
   ]
  },
  {
   "cell_type": "markdown",
   "metadata": {},
   "source": [
    "The important thing to know is that the `.data` attribute will extract the feature values, and the `.target` attribute will extract the target values. So, for example, the train features (`X_train`) are located in `newsgroups_train.data`, whereas the train targets (`y_train`) are located in `newsgroups_train.target`.\n",
    "\n",
    "In the cell below, create `X_train`, `X_test`, `y_train`, `y_test` based on `newsgroups_train` and `newsgroups_test`."
   ]
  },
  {
   "cell_type": "code",
   "execution_count": 3,
   "metadata": {},
   "outputs": [],
   "source": [
    "\n",
    "import pandas as pd\n",
    "pd.set_option('max_colwidth', 400)\n",
    "pd.set_option('use_mathjax', False)\n",
    "\n",
    "# Extract values from Bunch objects\n",
    "X_train = pd.DataFrame(newsgroups_train.data, columns=[\"text\"])\n",
    "X_test = pd.DataFrame(newsgroups_test.data, columns=[\"text\"])\n",
    "y_train = pd.Series(newsgroups_train.target, name=\"category\")\n",
    "y_test = pd.Series(newsgroups_test.target, name=\"category\")"
   ]
  },
  {
   "cell_type": "markdown",
   "metadata": {},
   "source": [
    "Double-check that your variables have the correct shape below:"
   ]
  },
  {
   "cell_type": "code",
   "execution_count": 4,
   "metadata": {},
   "outputs": [],
   "source": [
    "# Run this cell without changes\n",
    "\n",
    "# X_train and X_test both have 1 column (text)\n",
    "assert X_train.shape[1] == X_test.shape[1] and X_train.shape[1] == 1\n",
    "\n",
    "# y_train and y_test are 1-dimensional (target value only)\n",
    "assert len(y_train.shape) == len(y_test.shape) and len(y_train.shape) == 1\n",
    "\n",
    "# X_train and y_train have the same number of rows\n",
    "assert X_train.shape[0] == y_train.shape[0] and X_train.shape[0] == 2838\n",
    "\n",
    "# X_test and y_test have the same number of rows\n",
    "assert X_test.shape[0] == y_test.shape[0] and X_test.shape[0] == 1890"
   ]
  },
  {
   "cell_type": "markdown",
   "metadata": {},
   "source": [
    "And now let's look at some basic attributes of the dataset.\n",
    "\n",
    "#### Distribution of Target\n",
    "\n",
    "We know that there are five categories represented. How many are there of each?"
   ]
  },
  {
   "cell_type": "code",
   "execution_count": 5,
   "metadata": {},
   "outputs": [
    {
     "data": {
      "text/html": [
       "<div>\n",
       "<style scoped>\n",
       "    .dataframe tbody tr th:only-of-type {\n",
       "        vertical-align: middle;\n",
       "    }\n",
       "\n",
       "    .dataframe tbody tr th {\n",
       "        vertical-align: top;\n",
       "    }\n",
       "\n",
       "    .dataframe thead th {\n",
       "        text-align: right;\n",
       "    }\n",
       "</style>\n",
       "<table border=\"1\" class=\"dataframe tex2jax_ignore\">\n",
       "  <thead>\n",
       "    <tr style=\"text-align: right;\">\n",
       "      <th></th>\n",
       "      <th>count</th>\n",
       "      <th>target name</th>\n",
       "    </tr>\n",
       "    <tr>\n",
       "      <th>target value</th>\n",
       "      <th></th>\n",
       "      <th></th>\n",
       "    </tr>\n",
       "  </thead>\n",
       "  <tbody>\n",
       "    <tr>\n",
       "      <th>2</th>\n",
       "      <td>600</td>\n",
       "      <td>rec.sport.hockey</td>\n",
       "    </tr>\n",
       "    <tr>\n",
       "      <th>3</th>\n",
       "      <td>595</td>\n",
       "      <td>sci.crypt</td>\n",
       "    </tr>\n",
       "    <tr>\n",
       "      <th>0</th>\n",
       "      <td>593</td>\n",
       "      <td>comp.windows.x</td>\n",
       "    </tr>\n",
       "    <tr>\n",
       "      <th>1</th>\n",
       "      <td>585</td>\n",
       "      <td>misc.forsale</td>\n",
       "    </tr>\n",
       "    <tr>\n",
       "      <th>4</th>\n",
       "      <td>465</td>\n",
       "      <td>talk.politics.misc</td>\n",
       "    </tr>\n",
       "  </tbody>\n",
       "</table>\n",
       "</div>"
      ],
      "text/plain": [
       "              count         target name\n",
       "target value                           \n",
       "2               600    rec.sport.hockey\n",
       "3               595           sci.crypt\n",
       "0               593      comp.windows.x\n",
       "1               585        misc.forsale\n",
       "4               465  talk.politics.misc"
      ]
     },
     "execution_count": 5,
     "metadata": {},
     "output_type": "execute_result"
    }
   ],
   "source": [
    "# Run this cell without changes\n",
    "\n",
    "train_target_counts = pd.DataFrame(y_train.value_counts())\n",
    "train_target_counts[\"label\"] = [newsgroups_train.target_names[val] for val in train_target_counts.index]\n",
    "train_target_counts.columns = [\"count\", \"target name\"]\n",
    "train_target_counts.index.name = \"target value\"\n",
    "train_target_counts"
   ]
  },
  {
   "cell_type": "markdown",
   "metadata": {},
   "source": [
    "So, for example, the category \"comp.windows.x\" has the label of `0` in our dataset, and there are 593 text samples in that category within our training data.\n",
    "\n",
    "We also note that our target distribution looks reasonably balanced. Now let's look at the features.\n",
    "\n",
    "#### Visually Inspecting Features\n",
    "\n",
    "Run the cell below to view some examples of the features:"
   ]
  },
  {
   "cell_type": "code",
   "execution_count": 6,
   "metadata": {},
   "outputs": [
    {
     "data": {
      "text/html": [
       "<style type=\"text/css\">\n",
       "#T_5f9fb_row0_col0, #T_5f9fb_row0_col1, #T_5f9fb_row1_col0, #T_5f9fb_row1_col1, #T_5f9fb_row2_col0, #T_5f9fb_row2_col1, #T_5f9fb_row3_col0, #T_5f9fb_row3_col1, #T_5f9fb_row4_col0, #T_5f9fb_row4_col1 {\n",
       "  text-align: left;\n",
       "}\n",
       "</style>\n",
       "<table id=\"T_5f9fb\">\n",
       "  <thead>\n",
       "    <tr>\n",
       "      <th class=\"blank level0\" >&nbsp;</th>\n",
       "      <th id=\"T_5f9fb_level0_col0\" class=\"col_heading level0 col0\" >text</th>\n",
       "      <th id=\"T_5f9fb_level0_col1\" class=\"col_heading level0 col1\" >label</th>\n",
       "    </tr>\n",
       "  </thead>\n",
       "  <tbody>\n",
       "    <tr>\n",
       "      <th id=\"T_5f9fb_level0_row0\" class=\"row_heading level0 row0\" >1300</th>\n",
       "      <td id=\"T_5f9fb_row0_col0\" class=\"data row0 col0\" >\n",
       "\n",
       "\n",
       "   Ncd has an excellent document titled \"Host Loading Considerations in the X \n",
       "  environment\". I received my copy by emailing support@ncd.com. This may\n",
       "  help out.</td>\n",
       "      <td id=\"T_5f9fb_row0_col1\" class=\"data row0 col1\" >0</td>\n",
       "    </tr>\n",
       "    <tr>\n",
       "      <th id=\"T_5f9fb_level0_row1\" class=\"row_heading level0 row1\" >1758</th>\n",
       "      <td id=\"T_5f9fb_row1_col0\" class=\"data row1 col0\" >\n",
       "\n",
       " \n",
       "           You don't have to.  *It*  believes in YOU.\n",
       "\n",
       "\n",
       "\n",
       "\n",
       "        Well, looking at our new government pals, I'm inclined to\n",
       "        agree.  I don't much believe in our money, either. :)\n",
       "\n",
       "\n",
       "\n",
       "\n",
       "    Oh, ho HO!   If only you knew!  :)\n",
       "\n",
       "    Yup, I'm DEFINITELY checking out foreign currency, thanks to\n",
       "    to this newsgroup.  It sure doesn't take much thinking to realize\n",
       "    what direction the U.S. is headed.\n",
       "\n",
       "\n",
       "</td>\n",
       "      <td id=\"T_5f9fb_row1_col1\" class=\"data row1 col1\" >4</td>\n",
       "    </tr>\n",
       "    <tr>\n",
       "      <th id=\"T_5f9fb_level0_row2\" class=\"row_heading level0 row2\" >2558</th>\n",
       "      <td id=\"T_5f9fb_row2_col0\" class=\"data row2 col0\" >Miscellaneous comics for sale. I really would like\n",
       "to get rid of these for lack of space. Buyer pays\n",
       "shipping, and all offers considered. OH, and the\n",
       "first purchase over $20 in any of my posts\n",
       "gets a free Maxx #1/2 coupon, or a trashed copy\n",
       "of Amazing spidey #300. Here goes...\n",
       "\n",
       "\n",
       "Deathlok         #1           $3.00\n",
       "                 2-17         $1.75 each\n",
       "                 Annual #1     2.50\n",
       "                 Special #1    2.00\n",
       "\n",
       "Sleepwalker      1,2,6,8,9,13  7.00 (set) or 1.25\n",
       "                                             each\n",
       "\n",
       "\n",
       "Next Men         #1           $3.00\n",
       "Ray              #1            1.00\n",
       "Deathstroke      5,6           1.75 each\n",
       "Darkhawk         13            1.25\n",
       "New warrior's    18            1.00\n",
       "Fantasti Four    358           2.50\n",
       "Moon Knight      35,36         1.75 each\n",
       "Hulk             386-388       1.50 each\n",
       "\n",
       "Punisher W.Z.    1             2.50\n",
       "Cage             1             1.50\n",
       "X-force          1             2.00\n",
       "Silver Sable     1             2.00\n",
       "X-calibur        26,27,48,49   1.50 each\n",
       "\n",
       "\n",
       "Hearts of Darkness             5.00\n",
       "Infinity Guantlet     1-4      2.50 each\n",
       "Batman v. Pred.       1,3      2.00 each\n",
       " \"   \"  \"  (deluxe)   1        5.00\n",
       "\n",
       "Guardians of the\n",
       "Galaxy                1       3.00\n",
       "Spider-man 2099       1-3     5.00 (set)\n",
       "Spec. spider-man      189     3.00 (special hologram)\n",
       "\n",
       "Let me know if you'd like to buy anything. My\n",
       "address is U38134@uicvm.uic.edu</td>\n",
       "      <td id=\"T_5f9fb_row2_col1\" class=\"data row2 col1\" >1</td>\n",
       "    </tr>\n",
       "    <tr>\n",
       "      <th id=\"T_5f9fb_level0_row3\" class=\"row_heading level0 row3\" >2267</th>\n",
       "      <td id=\"T_5f9fb_row3_col0\" class=\"data row3 col0\" >\n",
       "\n",
       "My vote goes to Andy Moog 1st, Belfour 2nd, Vanbiesbrouck 3rd\n",
       "\n",
       "The Bruin's are hot at just the right time !!!!!\n",
       "\n",
       "\n",
       "rich beskosty</td>\n",
       "      <td id=\"T_5f9fb_row3_col1\" class=\"data row3 col1\" >2</td>\n",
       "    </tr>\n",
       "    <tr>\n",
       "      <th id=\"T_5f9fb_level0_row4\" class=\"row_heading level0 row4\" >1043</th>\n",
       "      <td id=\"T_5f9fb_row4_col0\" class=\"data row4 col0\" >\n",
       "\n",
       "Yes, \"Clipper\" is a trademark of Intergraph.  Its the RISC chip used\n",
       "in some of thier workstations. \n",
       "\n",
       "I wonder what Intergraph is going to do to this infringement on thier\n",
       "name sake?\n",
       "</td>\n",
       "      <td id=\"T_5f9fb_row4_col1\" class=\"data row4 col1\" >3</td>\n",
       "    </tr>\n",
       "  </tbody>\n",
       "</table>\n"
      ],
      "text/plain": [
       "<pandas.io.formats.style.Styler at 0x1d1e3d527f0>"
      ]
     },
     "execution_count": 6,
     "metadata": {},
     "output_type": "execute_result"
    }
   ],
   "source": [
    "# Run this cell without changes\n",
    "\n",
    "# Sample 5 records and display full text of each\n",
    "train_sample = X_train.sample(5, random_state=22)\n",
    "train_sample[\"label\"] = [y_train[val] for val in train_sample.index]\n",
    "train_sample.style.set_properties(**{'text-align': 'left'})"
   ]
  },
  {
   "cell_type": "markdown",
   "metadata": {},
   "source": [
    "In order, we have:\n",
    "\n",
    "* An example of `comp.windows.x`, talking about \"host loading considerations\"\n",
    "* An example of `talk.politics.misc`, talking about government and currency\n",
    "* An example of `misc.forsale`, talking about a list of comics for sale\n",
    "* An example of `rec.sport.hockey`, talking about hockey players and the Bruins\n",
    "* An example of `sci.crypt`, talking about a microprocessor\n",
    "\n",
    "We appear to have loaded the data correctly, so let's move on and perform some cleaning and additional exploratory analysis."
   ]
  },
  {
   "cell_type": "markdown",
   "metadata": {},
   "source": [
    "## 2. Perform Data Cleaning and Exploratory Data Analysis with `nltk`\n",
    "\n",
    "Prior to any exploratory analysis, we'll complete two common data cleaning tasks for text data: standardizing case and tokenizing.\n",
    "\n",
    "### Standardizing Case\n",
    "\n",
    "In an NLP modeling process, sometimes we will want to preserve the original case of words (i.e. to treat `\"It\"` and `\"it\"` as different words, and sometimes we will want to standardize case (i.e. to treat `\"It\"` and `\"it\"` as the same word).\n",
    "\n",
    "To figure out what we want to do, let's look at the first sample from above:"
   ]
  },
  {
   "cell_type": "code",
   "execution_count": 7,
   "metadata": {},
   "outputs": [
    {
     "data": {
      "text/plain": [
       "'\\n\\n\\n   Ncd has an excellent document titled \"Host Loading Considerations in the X \\n  environment\". I received my copy by emailing support@ncd.com. This may\\n  help out.'"
      ]
     },
     "execution_count": 7,
     "metadata": {},
     "output_type": "execute_result"
    }
   ],
   "source": [
    "# Run this cell without changes\n",
    "windows_sample = train_sample.iloc[0][\"text\"]\n",
    "windows_sample"
   ]
  },
  {
   "cell_type": "markdown",
   "metadata": {},
   "source": [
    "Here we have two references to the company Network Computing Devices, or NCD. At the beginning, the poster refers to it as `\"Ncd\"`. Then later refers to `\"support@ncd.com\"`. It seems reasonable to assume that both of these should be treated as references to the same word instead of treating `\"Ncd\"` and `\"ncd\"` as two totally separate things. So let's standardize the case of all letters in this dataset.\n",
    "\n",
    "The typical way to standardize case is to make everything lowercase. While it's possible to do this after tokenizing, it's easier and faster to do it first.\n",
    "\n",
    "For a single sample, we can just use the built-in Python `.lower()` method:"
   ]
  },
  {
   "cell_type": "code",
   "execution_count": 8,
   "metadata": {},
   "outputs": [
    {
     "data": {
      "text/plain": [
       "'\\n\\n\\n   ncd has an excellent document titled \"host loading considerations in the x \\n  environment\". i received my copy by emailing support@ncd.com. this may\\n  help out.'"
      ]
     },
     "execution_count": 8,
     "metadata": {},
     "output_type": "execute_result"
    }
   ],
   "source": [
    "# Run this cell without changes\n",
    "windows_sample.lower()"
   ]
  },
  {
   "cell_type": "markdown",
   "metadata": {},
   "source": [
    "#### Standarizing Case in the Full Dataset\n",
    "\n",
    "To access this method in pandas, you use `.str.lower()`:"
   ]
  },
  {
   "cell_type": "code",
   "execution_count": 9,
   "metadata": {},
   "outputs": [
    {
     "data": {
      "text/html": [
       "<style type=\"text/css\">\n",
       "#T_47824_row0_col0, #T_47824_row0_col1, #T_47824_row1_col0, #T_47824_row1_col1, #T_47824_row2_col0, #T_47824_row2_col1, #T_47824_row3_col0, #T_47824_row3_col1, #T_47824_row4_col0, #T_47824_row4_col1 {\n",
       "  text-align: left;\n",
       "}\n",
       "</style>\n",
       "<table id=\"T_47824\">\n",
       "  <thead>\n",
       "    <tr>\n",
       "      <th class=\"blank level0\" >&nbsp;</th>\n",
       "      <th id=\"T_47824_level0_col0\" class=\"col_heading level0 col0\" >text</th>\n",
       "      <th id=\"T_47824_level0_col1\" class=\"col_heading level0 col1\" >label</th>\n",
       "    </tr>\n",
       "  </thead>\n",
       "  <tbody>\n",
       "    <tr>\n",
       "      <th id=\"T_47824_level0_row0\" class=\"row_heading level0 row0\" >1300</th>\n",
       "      <td id=\"T_47824_row0_col0\" class=\"data row0 col0\" >\n",
       "\n",
       "\n",
       "   ncd has an excellent document titled \"host loading considerations in the x \n",
       "  environment\". i received my copy by emailing support@ncd.com. this may\n",
       "  help out.</td>\n",
       "      <td id=\"T_47824_row0_col1\" class=\"data row0 col1\" >0</td>\n",
       "    </tr>\n",
       "    <tr>\n",
       "      <th id=\"T_47824_level0_row1\" class=\"row_heading level0 row1\" >1758</th>\n",
       "      <td id=\"T_47824_row1_col0\" class=\"data row1 col0\" >\n",
       "\n",
       " \n",
       "           you don't have to.  *it*  believes in you.\n",
       "\n",
       "\n",
       "\n",
       "\n",
       "        well, looking at our new government pals, i'm inclined to\n",
       "        agree.  i don't much believe in our money, either. :)\n",
       "\n",
       "\n",
       "\n",
       "\n",
       "    oh, ho ho!   if only you knew!  :)\n",
       "\n",
       "    yup, i'm definitely checking out foreign currency, thanks to\n",
       "    to this newsgroup.  it sure doesn't take much thinking to realize\n",
       "    what direction the u.s. is headed.\n",
       "\n",
       "\n",
       "</td>\n",
       "      <td id=\"T_47824_row1_col1\" class=\"data row1 col1\" >4</td>\n",
       "    </tr>\n",
       "    <tr>\n",
       "      <th id=\"T_47824_level0_row2\" class=\"row_heading level0 row2\" >2558</th>\n",
       "      <td id=\"T_47824_row2_col0\" class=\"data row2 col0\" >miscellaneous comics for sale. i really would like\n",
       "to get rid of these for lack of space. buyer pays\n",
       "shipping, and all offers considered. oh, and the\n",
       "first purchase over $20 in any of my posts\n",
       "gets a free maxx #1/2 coupon, or a trashed copy\n",
       "of amazing spidey #300. here goes...\n",
       "\n",
       "\n",
       "deathlok         #1           $3.00\n",
       "                 2-17         $1.75 each\n",
       "                 annual #1     2.50\n",
       "                 special #1    2.00\n",
       "\n",
       "sleepwalker      1,2,6,8,9,13  7.00 (set) or 1.25\n",
       "                                             each\n",
       "\n",
       "\n",
       "next men         #1           $3.00\n",
       "ray              #1            1.00\n",
       "deathstroke      5,6           1.75 each\n",
       "darkhawk         13            1.25\n",
       "new warrior's    18            1.00\n",
       "fantasti four    358           2.50\n",
       "moon knight      35,36         1.75 each\n",
       "hulk             386-388       1.50 each\n",
       "\n",
       "punisher w.z.    1             2.50\n",
       "cage             1             1.50\n",
       "x-force          1             2.00\n",
       "silver sable     1             2.00\n",
       "x-calibur        26,27,48,49   1.50 each\n",
       "\n",
       "\n",
       "hearts of darkness             5.00\n",
       "infinity guantlet     1-4      2.50 each\n",
       "batman v. pred.       1,3      2.00 each\n",
       " \"   \"  \"  (deluxe)   1        5.00\n",
       "\n",
       "guardians of the\n",
       "galaxy                1       3.00\n",
       "spider-man 2099       1-3     5.00 (set)\n",
       "spec. spider-man      189     3.00 (special hologram)\n",
       "\n",
       "let me know if you'd like to buy anything. my\n",
       "address is u38134@uicvm.uic.edu</td>\n",
       "      <td id=\"T_47824_row2_col1\" class=\"data row2 col1\" >1</td>\n",
       "    </tr>\n",
       "    <tr>\n",
       "      <th id=\"T_47824_level0_row3\" class=\"row_heading level0 row3\" >2267</th>\n",
       "      <td id=\"T_47824_row3_col0\" class=\"data row3 col0\" >\n",
       "\n",
       "my vote goes to andy moog 1st, belfour 2nd, vanbiesbrouck 3rd\n",
       "\n",
       "the bruin's are hot at just the right time !!!!!\n",
       "\n",
       "\n",
       "rich beskosty</td>\n",
       "      <td id=\"T_47824_row3_col1\" class=\"data row3 col1\" >2</td>\n",
       "    </tr>\n",
       "    <tr>\n",
       "      <th id=\"T_47824_level0_row4\" class=\"row_heading level0 row4\" >1043</th>\n",
       "      <td id=\"T_47824_row4_col0\" class=\"data row4 col0\" >\n",
       "\n",
       "yes, \"clipper\" is a trademark of intergraph.  its the risc chip used\n",
       "in some of thier workstations. \n",
       "\n",
       "i wonder what intergraph is going to do to this infringement on thier\n",
       "name sake?\n",
       "</td>\n",
       "      <td id=\"T_47824_row4_col1\" class=\"data row4 col1\" >3</td>\n",
       "    </tr>\n",
       "  </tbody>\n",
       "</table>\n"
      ],
      "text/plain": [
       "<pandas.io.formats.style.Styler at 0x1d1e00c1970>"
      ]
     },
     "execution_count": 9,
     "metadata": {},
     "output_type": "execute_result"
    }
   ],
   "source": [
    "# Run this cell without changes\n",
    "\n",
    "# Transform sample data to lowercase\n",
    "train_sample[\"text\"] = train_sample[\"text\"].str.lower()\n",
    "# Display full text\n",
    "train_sample.style.set_properties(**{'text-align': 'left'})"
   ]
  },
  {
   "cell_type": "markdown",
   "metadata": {},
   "source": [
    "In the cell below, perform the same operation on the full `X_train`:"
   ]
  },
  {
   "cell_type": "code",
   "execution_count": 10,
   "metadata": {},
   "outputs": [],
   "source": [
    "\n",
    "# Transform text in X_train to lowercase\n",
    "X_train[\"text\"] = X_train[\"text\"].str.lower()"
   ]
  },
  {
   "cell_type": "markdown",
   "metadata": {},
   "source": [
    "Double-check your work by looking at an example and making sure the text is lowercase:"
   ]
  },
  {
   "cell_type": "code",
   "execution_count": 11,
   "metadata": {},
   "outputs": [
    {
     "data": {
      "text/plain": [
       "\"i have a problem where an athena strip chart widget is not calling it's\\nget value function.  i am pretty sure this is happening because i am\\nnot using xtappmainloop, but am dealing with events via sockets.  (ya ya).\\n\\nanyway, i want to cause a timeout so that the strip chart widget(s) will\\ncall their get value callback.  or if someone knows another fast way around\\nthis (or any way for that matter) let me know.  i cannot (or i don't think)\\ncall the xtngetvalue callback myself because i don't have the value for\\nthe third parameter of the get value proc (xtpointer call_data).  \\n\\nin other words, i want to force a strip chart widget to update itself.\\n\\nany ideas anyone?  \\n\""
      ]
     },
     "execution_count": 11,
     "metadata": {},
     "output_type": "execute_result"
    }
   ],
   "source": [
    "# Run this cell without changes\n",
    "X_train.iloc[100][\"text\"]"
   ]
  },
  {
   "cell_type": "markdown",
   "metadata": {},
   "source": [
    "### Tokenizing\n",
    "\n",
    "Now that the case is consistent it's time to convert each document from a single long string into a set of tokens.\n",
    "\n",
    "Let's look more closely at the second example from our training data sample:"
   ]
  },
  {
   "cell_type": "code",
   "execution_count": 12,
   "metadata": {},
   "outputs": [
    {
     "data": {
      "text/plain": [
       "\"\\n\\n \\n           you don't have to.  *it*  believes in you.\\n\\n\\n\\n\\n        well, looking at our new government pals, i'm inclined to\\n        agree.  i don't much believe in our money, either. :)\\n\\n\\n\\n\\n    oh, ho ho!   if only you knew!  :)\\n\\n    yup, i'm definitely checking out foreign currency, thanks to\\n    to this newsgroup.  it sure doesn't take much thinking to realize\\n    what direction the u.s. is headed.\\n\\n\\n\""
      ]
     },
     "execution_count": 12,
     "metadata": {},
     "output_type": "execute_result"
    }
   ],
   "source": [
    "# Run this cell without changes\n",
    "politics_sample = train_sample.iloc[1][\"text\"]\n",
    "politics_sample"
   ]
  },
  {
   "cell_type": "markdown",
   "metadata": {},
   "source": [
    "If we split this into tokens just by using the built-in Python `.split` string method, we would have a lot of punctuation attached:"
   ]
  },
  {
   "cell_type": "code",
   "execution_count": 13,
   "metadata": {},
   "outputs": [
    {
     "data": {
      "text/plain": [
       "['you',\n",
       " \"don't\",\n",
       " 'have',\n",
       " 'to.',\n",
       " '*it*',\n",
       " 'believes',\n",
       " 'in',\n",
       " 'you.',\n",
       " 'well,',\n",
       " 'looking']"
      ]
     },
     "execution_count": 13,
     "metadata": {},
     "output_type": "execute_result"
    }
   ],
   "source": [
    "# Run this cell without changes\n",
    "politics_sample.split()[:10]"
   ]
  },
  {
   "cell_type": "markdown",
   "metadata": {},
   "source": [
    "(Punctuation being attached to words is a problem because we probably want to treat `you` and `you.` as two instances of the same token, not two different tokens.)\n",
    "\n",
    "Let's use the default token pattern that scikit-learn uses in its vectorizers. The RegEx looks like this:\n",
    "\n",
    "```\n",
    "(?u)\\b\\w\\w+\\b\n",
    "```\n",
    "\n",
    "That means:\n",
    "\n",
    "1. `(?u)`: use full unicode string matching\n",
    "2. `\\b`: find a word boundary (a word boundary has length 0, and represents the location between non-word characters and word characters)\n",
    "3. `\\w\\w+`: find 2 or more word characters (all letters, numbers, and underscores are word characters)\n",
    "4. `\\b`: find another word boundary\n",
    "\n",
    "In other words, we are looking for tokens that consist of two or more consecutive word characters, which include letters, numbers, and underscores.\n",
    "\n",
    "We'll use the `RegexpTokenizer` from NLTK to create these tokens, initially just transforming the politics sample:"
   ]
  },
  {
   "cell_type": "code",
   "execution_count": 14,
   "metadata": {},
   "outputs": [
    {
     "data": {
      "text/plain": [
       "['you', 'don', 'have', 'to', 'it', 'believes', 'in', 'you', 'well', 'looking']"
      ]
     },
     "execution_count": 14,
     "metadata": {},
     "output_type": "execute_result"
    }
   ],
   "source": [
    "# Run this cell without changes\n",
    "\n",
    "from nltk.tokenize import RegexpTokenizer\n",
    "\n",
    "basic_token_pattern = r\"(?u)\\b\\w\\w+\\b\"\n",
    "\n",
    "tokenizer = RegexpTokenizer(basic_token_pattern)\n",
    "tokenizer.tokenize(politics_sample)[:10]"
   ]
  },
  {
   "cell_type": "markdown",
   "metadata": {},
   "source": [
    "#### Tokenizing the Full Dataset\n",
    "\n",
    "The way to tokenize all values in a column of a pandas dataframe is to use `.apply` and pass in `tokenizer.tokenize`.\n",
    "\n",
    "For example, with the sample dataset:"
   ]
  },
  {
   "cell_type": "code",
   "execution_count": 15,
   "metadata": {},
   "outputs": [
    {
     "data": {
      "text/html": [
       "<style type=\"text/css\">\n",
       "#T_a4686_row0_col0, #T_a4686_row0_col1, #T_a4686_row0_col2, #T_a4686_row1_col0, #T_a4686_row1_col1, #T_a4686_row1_col2, #T_a4686_row2_col0, #T_a4686_row2_col1, #T_a4686_row2_col2, #T_a4686_row3_col0, #T_a4686_row3_col1, #T_a4686_row3_col2, #T_a4686_row4_col0, #T_a4686_row4_col1, #T_a4686_row4_col2 {\n",
       "  text-align: left;\n",
       "}\n",
       "</style>\n",
       "<table id=\"T_a4686\">\n",
       "  <thead>\n",
       "    <tr>\n",
       "      <th class=\"blank level0\" >&nbsp;</th>\n",
       "      <th id=\"T_a4686_level0_col0\" class=\"col_heading level0 col0\" >text</th>\n",
       "      <th id=\"T_a4686_level0_col1\" class=\"col_heading level0 col1\" >label</th>\n",
       "      <th id=\"T_a4686_level0_col2\" class=\"col_heading level0 col2\" >text_tokenized</th>\n",
       "    </tr>\n",
       "  </thead>\n",
       "  <tbody>\n",
       "    <tr>\n",
       "      <th id=\"T_a4686_level0_row0\" class=\"row_heading level0 row0\" >1300</th>\n",
       "      <td id=\"T_a4686_row0_col0\" class=\"data row0 col0\" >\n",
       "\n",
       "\n",
       "   ncd has an excellent document titled \"host loading considerations in the x \n",
       "  environment\". i received my copy by emailing support@ncd.com. this may\n",
       "  help out.</td>\n",
       "      <td id=\"T_a4686_row0_col1\" class=\"data row0 col1\" >0</td>\n",
       "      <td id=\"T_a4686_row0_col2\" class=\"data row0 col2\" >['ncd', 'has', 'an', 'excellent', 'document', 'titled', 'host', 'loading', 'considerations', 'in', 'the', 'environment', 'received', 'my', 'copy', 'by', 'emailing', 'support', 'ncd', 'com', 'this', 'may', 'help', 'out']</td>\n",
       "    </tr>\n",
       "    <tr>\n",
       "      <th id=\"T_a4686_level0_row1\" class=\"row_heading level0 row1\" >1758</th>\n",
       "      <td id=\"T_a4686_row1_col0\" class=\"data row1 col0\" >\n",
       "\n",
       " \n",
       "           you don't have to.  *it*  believes in you.\n",
       "\n",
       "\n",
       "\n",
       "\n",
       "        well, looking at our new government pals, i'm inclined to\n",
       "        agree.  i don't much believe in our money, either. :)\n",
       "\n",
       "\n",
       "\n",
       "\n",
       "    oh, ho ho!   if only you knew!  :)\n",
       "\n",
       "    yup, i'm definitely checking out foreign currency, thanks to\n",
       "    to this newsgroup.  it sure doesn't take much thinking to realize\n",
       "    what direction the u.s. is headed.\n",
       "\n",
       "\n",
       "</td>\n",
       "      <td id=\"T_a4686_row1_col1\" class=\"data row1 col1\" >4</td>\n",
       "      <td id=\"T_a4686_row1_col2\" class=\"data row1 col2\" >['you', 'don', 'have', 'to', 'it', 'believes', 'in', 'you', 'well', 'looking', 'at', 'our', 'new', 'government', 'pals', 'inclined', 'to', 'agree', 'don', 'much', 'believe', 'in', 'our', 'money', 'either', 'oh', 'ho', 'ho', 'if', 'only', 'you', 'knew', 'yup', 'definitely', 'checking', 'out', 'foreign', 'currency', 'thanks', 'to', 'to', 'this', 'newsgroup', 'it', 'sure', 'doesn', 'take', 'much', 'thinking', 'to', 'realize', 'what', 'direction', 'the', 'is', 'headed']</td>\n",
       "    </tr>\n",
       "    <tr>\n",
       "      <th id=\"T_a4686_level0_row2\" class=\"row_heading level0 row2\" >2558</th>\n",
       "      <td id=\"T_a4686_row2_col0\" class=\"data row2 col0\" >miscellaneous comics for sale. i really would like\n",
       "to get rid of these for lack of space. buyer pays\n",
       "shipping, and all offers considered. oh, and the\n",
       "first purchase over $20 in any of my posts\n",
       "gets a free maxx #1/2 coupon, or a trashed copy\n",
       "of amazing spidey #300. here goes...\n",
       "\n",
       "\n",
       "deathlok         #1           $3.00\n",
       "                 2-17         $1.75 each\n",
       "                 annual #1     2.50\n",
       "                 special #1    2.00\n",
       "\n",
       "sleepwalker      1,2,6,8,9,13  7.00 (set) or 1.25\n",
       "                                             each\n",
       "\n",
       "\n",
       "next men         #1           $3.00\n",
       "ray              #1            1.00\n",
       "deathstroke      5,6           1.75 each\n",
       "darkhawk         13            1.25\n",
       "new warrior's    18            1.00\n",
       "fantasti four    358           2.50\n",
       "moon knight      35,36         1.75 each\n",
       "hulk             386-388       1.50 each\n",
       "\n",
       "punisher w.z.    1             2.50\n",
       "cage             1             1.50\n",
       "x-force          1             2.00\n",
       "silver sable     1             2.00\n",
       "x-calibur        26,27,48,49   1.50 each\n",
       "\n",
       "\n",
       "hearts of darkness             5.00\n",
       "infinity guantlet     1-4      2.50 each\n",
       "batman v. pred.       1,3      2.00 each\n",
       " \"   \"  \"  (deluxe)   1        5.00\n",
       "\n",
       "guardians of the\n",
       "galaxy                1       3.00\n",
       "spider-man 2099       1-3     5.00 (set)\n",
       "spec. spider-man      189     3.00 (special hologram)\n",
       "\n",
       "let me know if you'd like to buy anything. my\n",
       "address is u38134@uicvm.uic.edu</td>\n",
       "      <td id=\"T_a4686_row2_col1\" class=\"data row2 col1\" >1</td>\n",
       "      <td id=\"T_a4686_row2_col2\" class=\"data row2 col2\" >['miscellaneous', 'comics', 'for', 'sale', 'really', 'would', 'like', 'to', 'get', 'rid', 'of', 'these', 'for', 'lack', 'of', 'space', 'buyer', 'pays', 'shipping', 'and', 'all', 'offers', 'considered', 'oh', 'and', 'the', 'first', 'purchase', 'over', '20', 'in', 'any', 'of', 'my', 'posts', 'gets', 'free', 'maxx', 'coupon', 'or', 'trashed', 'copy', 'of', 'amazing', 'spidey', '300', 'here', 'goes', 'deathlok', '00', '17', '75', 'each', 'annual', '50', 'special', '00', 'sleepwalker', '13', '00', 'set', 'or', '25', 'each', 'next', 'men', '00', 'ray', '00', 'deathstroke', '75', 'each', 'darkhawk', '13', '25', 'new', 'warrior', '18', '00', 'fantasti', 'four', '358', '50', 'moon', 'knight', '35', '36', '75', 'each', 'hulk', '386', '388', '50', 'each', 'punisher', '50', 'cage', '50', 'force', '00', 'silver', 'sable', '00', 'calibur', '26', '27', '48', '49', '50', 'each', 'hearts', 'of', 'darkness', '00', 'infinity', 'guantlet', '50', 'each', 'batman', 'pred', '00', 'each', 'deluxe', '00', 'guardians', 'of', 'the', 'galaxy', '00', 'spider', 'man', '2099', '00', 'set', 'spec', 'spider', 'man', '189', '00', 'special', 'hologram', 'let', 'me', 'know', 'if', 'you', 'like', 'to', 'buy', 'anything', 'my', 'address', 'is', 'u38134', 'uicvm', 'uic', 'edu']</td>\n",
       "    </tr>\n",
       "    <tr>\n",
       "      <th id=\"T_a4686_level0_row3\" class=\"row_heading level0 row3\" >2267</th>\n",
       "      <td id=\"T_a4686_row3_col0\" class=\"data row3 col0\" >\n",
       "\n",
       "my vote goes to andy moog 1st, belfour 2nd, vanbiesbrouck 3rd\n",
       "\n",
       "the bruin's are hot at just the right time !!!!!\n",
       "\n",
       "\n",
       "rich beskosty</td>\n",
       "      <td id=\"T_a4686_row3_col1\" class=\"data row3 col1\" >2</td>\n",
       "      <td id=\"T_a4686_row3_col2\" class=\"data row3 col2\" >['my', 'vote', 'goes', 'to', 'andy', 'moog', '1st', 'belfour', '2nd', 'vanbiesbrouck', '3rd', 'the', 'bruin', 'are', 'hot', 'at', 'just', 'the', 'right', 'time', 'rich', 'beskosty']</td>\n",
       "    </tr>\n",
       "    <tr>\n",
       "      <th id=\"T_a4686_level0_row4\" class=\"row_heading level0 row4\" >1043</th>\n",
       "      <td id=\"T_a4686_row4_col0\" class=\"data row4 col0\" >\n",
       "\n",
       "yes, \"clipper\" is a trademark of intergraph.  its the risc chip used\n",
       "in some of thier workstations. \n",
       "\n",
       "i wonder what intergraph is going to do to this infringement on thier\n",
       "name sake?\n",
       "</td>\n",
       "      <td id=\"T_a4686_row4_col1\" class=\"data row4 col1\" >3</td>\n",
       "      <td id=\"T_a4686_row4_col2\" class=\"data row4 col2\" >['yes', 'clipper', 'is', 'trademark', 'of', 'intergraph', 'its', 'the', 'risc', 'chip', 'used', 'in', 'some', 'of', 'thier', 'workstations', 'wonder', 'what', 'intergraph', 'is', 'going', 'to', 'do', 'to', 'this', 'infringement', 'on', 'thier', 'name', 'sake']</td>\n",
       "    </tr>\n",
       "  </tbody>\n",
       "</table>\n"
      ],
      "text/plain": [
       "<pandas.io.formats.style.Styler at 0x1d1e95e52b0>"
      ]
     },
     "execution_count": 15,
     "metadata": {},
     "output_type": "execute_result"
    }
   ],
   "source": [
    "# Run this cell without changes\n",
    "\n",
    "# Create new column with tokenized data\n",
    "train_sample[\"text_tokenized\"] = train_sample[\"text\"].apply(tokenizer.tokenize)\n",
    "# Display full text\n",
    "train_sample.style.set_properties(**{'text-align': 'left'})"
   ]
  },
  {
   "cell_type": "markdown",
   "metadata": {},
   "source": [
    "In the cell below, apply the same operation on `X_train`:"
   ]
  },
  {
   "cell_type": "code",
   "execution_count": 16,
   "metadata": {},
   "outputs": [],
   "source": [
    "# Create column text_tokenized on X_train\n",
    "X_train[\"text_tokenized\"] = X_train[\"text\"].apply(tokenizer.tokenize)"
   ]
  },
  {
   "cell_type": "markdown",
   "metadata": {},
   "source": [
    "Visually inspect your work below:"
   ]
  },
  {
   "cell_type": "code",
   "execution_count": 17,
   "metadata": {},
   "outputs": [
    {
     "data": {
      "text/plain": [
       "['have',\n",
       " 'problem',\n",
       " 'where',\n",
       " 'an',\n",
       " 'athena',\n",
       " 'strip',\n",
       " 'chart',\n",
       " 'widget',\n",
       " 'is',\n",
       " 'not',\n",
       " 'calling',\n",
       " 'it',\n",
       " 'get',\n",
       " 'value',\n",
       " 'function',\n",
       " 'am',\n",
       " 'pretty',\n",
       " 'sure',\n",
       " 'this',\n",
       " 'is']"
      ]
     },
     "execution_count": 17,
     "metadata": {},
     "output_type": "execute_result"
    }
   ],
   "source": [
    "# Run this cell without changes\n",
    "X_train.iloc[100][\"text_tokenized\"][:20]"
   ]
  },
  {
   "cell_type": "markdown",
   "metadata": {},
   "source": [
    "(Note that we have removed all single-letter words, so instead of `\"have\", \"a\", \"problem\"`, the sample now shows just `\"have\", \"problem\"`. If we wanted to include single-letter words, we could use the token pattern `(?u)\\b\\w+\\b` instead.)\n",
    "\n",
    "Now that our data is cleaned up (case standardized and tokenized), we can perform some EDA."
   ]
  },
  {
   "cell_type": "markdown",
   "metadata": {},
   "source": [
    "### Exploratory Data Analysis: Frequency Distributions\n",
    "\n",
    "Recall that a frequency distribution is a data structure that contains pieces of data as well as the count of how frequently they appear. In this case, the pieces of data we'll be looking at are tokens (words).\n",
    "\n",
    "In the past we have built a frequency distribution \"by hand\" using built-in Python data structures. Here we'll use another handy tool from NLTK called `FreqDist` ([documentation here](http://www.nltk.org/api/nltk.html?highlight=freqdist#nltk.probability.FreqDist)). `FreqDist` allows us to pass in a single list of words, and it produces a dictionary-like output of those words and their frequencies.\n",
    "\n",
    "For example, this creates a frequency distribution of the example shown above:"
   ]
  },
  {
   "cell_type": "code",
   "execution_count": 18,
   "metadata": {},
   "outputs": [
    {
     "data": {
      "text/plain": [
       "FreqDist({'is': 2, 'have': 1, 'problem': 1, 'where': 1, 'an': 1, 'athena': 1, 'strip': 1, 'chart': 1, 'widget': 1, 'not': 1, ...})"
      ]
     },
     "execution_count": 18,
     "metadata": {},
     "output_type": "execute_result"
    }
   ],
   "source": [
    "# Run this cell without changes\n",
    "from nltk import FreqDist\n",
    "\n",
    "example_freq_dist = FreqDist(X_train.iloc[100][\"text_tokenized\"][:20])\n",
    "example_freq_dist"
   ]
  },
  {
   "cell_type": "markdown",
   "metadata": {},
   "source": [
    "Then can use Matplotlib to visualize the most common words:"
   ]
  },
  {
   "cell_type": "code",
   "execution_count": 19,
   "metadata": {},
   "outputs": [
    {
     "data": {
      "image/png": "[encoded data removed]",
      "text/plain": [
       "<Figure size 432x288 with 1 Axes>"
      ]
     },
     "metadata": {
      "needs_background": "light"
     },
     "output_type": "display_data"
    }
   ],
   "source": [
    "# Run this cell without changes\n",
    "import matplotlib.pyplot as plt\n",
    "from matplotlib.ticker import MaxNLocator\n",
    "\n",
    "def visualize_top_10(freq_dist, title):\n",
    "\n",
    "    # Extract data for plotting\n",
    "    top_10 = list(zip(*freq_dist.most_common(10)))\n",
    "    tokens = top_10[0]\n",
    "    counts = top_10[1]\n",
    "\n",
    "    # Set up plot and plot data\n",
    "    fig, ax = plt.subplots()\n",
    "    ax.bar(tokens, counts)\n",
    "\n",
    "    # Customize plot appearance\n",
    "    ax.set_title(title)\n",
    "    ax.set_ylabel(\"Count\")\n",
    "    ax.yaxis.set_major_locator(MaxNLocator(integer=True))\n",
    "    ax.tick_params(axis=\"x\", rotation=90)\n",
    "    \n",
    "visualize_top_10(example_freq_dist, \"Top 10 Word Frequency for Example Tokens\")"
   ]
  },
  {
   "cell_type": "markdown",
   "metadata": {},
   "source": [
    "Interpreting the chart above is a bit artificial, since this sample only included 20 tokens. But essentially this is saying that the token with the highest frequency in our example is `\"is\"`, which occurred twice."
   ]
  },
  {
   "cell_type": "markdown",
   "metadata": {},
   "source": [
    "#### Visualizing the Frequency Distribution for the Full Dataset\n",
    "\n",
    "Let's do that for the full `X_train`.\n",
    "\n",
    "First, we need a list of all of the words in the `text_tokenized` column. We could do this manually by looping over the rows, but fortunately pandas has a handy method called `.explode()` ([documentation here](https://pandas.pydata.org/pandas-docs/stable/reference/api/pandas.Series.explode.html#pandas.Series.explode)) that does exactly this.\n",
    "\n",
    "Here is an example applying that to the sample dataframe:"
   ]
  },
  {
   "cell_type": "code",
   "execution_count": 20,
   "metadata": {},
   "outputs": [
    {
     "data": {
      "text/plain": [
       "1300             ncd\n",
       "1300             has\n",
       "1300              an\n",
       "1300       excellent\n",
       "1300        document\n",
       "            ...     \n",
       "1043    infringement\n",
       "1043              on\n",
       "1043           thier\n",
       "1043            name\n",
       "1043            sake\n",
       "Name: text_tokenized, Length: 289, dtype: object"
      ]
     },
     "execution_count": 20,
     "metadata": {},
     "output_type": "execute_result"
    }
   ],
   "source": [
    "# Run this cell without changes\n",
    "train_sample[\"text_tokenized\"].explode()"
   ]
  },
  {
   "cell_type": "markdown",
   "metadata": {},
   "source": [
    "And we can visualize the top 10 words from the sample dataframe like this:"
   ]
  },
  {
   "cell_type": "code",
   "execution_count": 21,
   "metadata": {},
   "outputs": [
    {
     "data": {
      "image/png": "[encoded data removed]",
      "text/plain": [
       "<Figure size 432x288 with 1 Axes>"
      ]
     },
     "metadata": {
      "needs_background": "light"
     },
     "output_type": "display_data"
    }
   ],
   "source": [
    "# Run this cell without changes\n",
    "sample_freq_dist = FreqDist(train_sample[\"text_tokenized\"].explode())\n",
    "visualize_top_10(sample_freq_dist, \"Top 10 Word Frequency for 5 Samples\")"
   ]
  },
  {
   "cell_type": "markdown",
   "metadata": {},
   "source": [
    "Note that `\"00\"` and `\"50\"` are both in the top 10 tokens, due to many prices appearing in the `misc.forsale` example.\n",
    "\n",
    "In the cell below, complete the same process for the full `X_train`:"
   ]
  },
  {
   "cell_type": "code",
   "execution_count": 22,
   "metadata": {},
   "outputs": [
    {
     "data": {
      "image/png": "[encoded data removed]",
      "text/plain": [
       "<Figure size 432x288 with 1 Axes>"
      ]
     },
     "metadata": {
      "needs_background": "light"
     },
     "output_type": "display_data"
    }
   ],
   "source": [
    "\n",
    "# Create a frequency distribution for X_train\n",
    "train_freq_dist = FreqDist(X_train[\"text_tokenized\"].explode())\n",
    "\n",
    "# Plot the top 10 tokens\n",
    "visualize_top_10(train_freq_dist, \"Top 10 Word Frequency for Full X_train\")"
   ]
  },
  {
   "cell_type": "markdown",
   "metadata": {},
   "source": [
    "Ok great, we have a general sense of the word frequencies in our dataset!\n",
    "\n",
    "We can also subdivide this by category, to see if it makes a difference:"
   ]
  },
  {
   "cell_type": "code",
   "execution_count": 23,
   "metadata": {},
   "outputs": [
    {
     "data": {
      "image/png": "[encoded data removed]",
      "text/plain": [
       "<Figure size 1080x648 with 5 Axes>"
      ]
     },
     "metadata": {
      "needs_background": "light"
     },
     "output_type": "display_data"
    }
   ],
   "source": [
    "# Run this cell without changes\n",
    "\n",
    "# Add in labels for filtering (we won't pass them in to the model)\n",
    "X_train[\"label\"] = [y_train[val] for val in X_train.index]\n",
    "\n",
    "def setup_five_subplots():\n",
    "    \"\"\"\n",
    "    It's hard to make an odd number of graphs pretty with just nrows\n",
    "    and ncols, so we make a custom grid. See example for more details:\n",
    "    https://matplotlib.org/stable/gallery/subplots_axes_and_figures/gridspec_multicolumn.html\n",
    "\n",
    "    We want the graphs to look like this:\n",
    "     [ ] [ ] [ ]\n",
    "       [ ] [ ]\n",
    "\n",
    "    So we make a 2x6 grid with 5 graphs arranged on it. 3 in the\n",
    "    top row, 2 in the second row\n",
    "\n",
    "      0 1 2 3 4 5\n",
    "    0|[|]|[|]|[|]|\n",
    "    1| |[|]|[|]| |\n",
    "    \"\"\"\n",
    "    fig = plt.figure(figsize=(15,9))\n",
    "    fig.set_tight_layout(True)\n",
    "    gs = fig.add_gridspec(2, 6)\n",
    "    ax1 = fig.add_subplot(gs[0, :2]) # row 0, cols 0-1\n",
    "    ax2 = fig.add_subplot(gs[0, 2:4])# row 0, cols 2-3\n",
    "    ax3 = fig.add_subplot(gs[0, 4:]) # row 0, cols 4-5\n",
    "    ax4 = fig.add_subplot(gs[1, 1:3])# row 1, cols 1-2\n",
    "    ax5 = fig.add_subplot(gs[1, 3:5])# row 1, cols 3-4\n",
    "    return fig, [ax1, ax2, ax3, ax4, ax5]\n",
    "\n",
    "def plot_distribution_of_column_by_category(column, axes, title=\"Word Frequency for\"):\n",
    "    for index, category in enumerate(newsgroups_train.target_names):\n",
    "        # Calculate frequency distribution for this subset\n",
    "        all_words = X_train[X_train[\"label\"] == index][column].explode()\n",
    "        freq_dist = FreqDist(all_words)\n",
    "        top_10 = list(zip(*freq_dist.most_common(10)))\n",
    "        tokens = top_10[0]\n",
    "        counts = top_10[1]\n",
    "\n",
    "        # Set up plot\n",
    "        ax = axes[index]\n",
    "        ax.bar(tokens, counts)\n",
    "\n",
    "        # Customize plot appearance\n",
    "        ax.set_title(f\"{title} {category}\")\n",
    "        ax.set_ylabel(\"Count\")\n",
    "        ax.yaxis.set_major_locator(MaxNLocator(integer=True))\n",
    "        ax.tick_params(axis=\"x\", rotation=90)\n",
    "\n",
    "\n",
    "fig, axes = setup_five_subplots()\n",
    "plot_distribution_of_column_by_category(\"text_tokenized\", axes)\n",
    "fig.suptitle(\"Word Frequencies for All Tokens\", fontsize=24);"
   ]
  },
  {
   "cell_type": "markdown",
   "metadata": {},
   "source": [
    "If these were unlabeled, would you be able to figure out which one matched with which category?\n",
    "\n",
    "Well, `misc.forsale` still has a number (`\"00\"`) as one of its top tokens, so you might be able to figure out that one, but it seems very difficult to distinguish the others; every single category has `\"the\"` as the most common token, and every category except for `misc.forsale` has `\"to\"` as the second most common token. \n",
    "\n",
    "After building our baseline model, we'll use this information to inform our next preprocessing steps."
   ]
  },
  {
   "cell_type": "markdown",
   "metadata": {},
   "source": [
    "## 3. Build and Evaluate a Baseline Model with `TfidfVectorizer` and `MultinomialNB`\n",
    "\n",
    "Let's start modeling by building a model that basically only has access to the information in the plots above. So, using the default token pattern to split the full text into tokens, and using a limited vocabulary.\n",
    "\n",
    "To give the model a little bit more information with those same features, we'll use a `TfidfVectorizer` ([documentation here](https://scikit-learn.org/stable/modules/generated/sklearn.feature_extraction.text.TfidfVectorizer.html)) so that it counts not only the term frequency (`tf`) within a single document, it also includes the inverse document frequency (`idf`) — how rare the term is.\n",
    "\n",
    "In the cell below, import the vectorizer, instantiate a vectorizer object, and fit it on `X_train[\"text\"]`."
   ]
  },
  {
   "cell_type": "code",
   "execution_count": 24,
   "metadata": {},
   "outputs": [
    {
     "data": {
      "text/html": [
       "<div>\n",
       "<style scoped>\n",
       "    .dataframe tbody tr th:only-of-type {\n",
       "        vertical-align: middle;\n",
       "    }\n",
       "\n",
       "    .dataframe tbody tr th {\n",
       "        vertical-align: top;\n",
       "    }\n",
       "\n",
       "    .dataframe thead th {\n",
       "        text-align: right;\n",
       "    }\n",
       "</style>\n",
       "<table border=\"1\" class=\"dataframe tex2jax_ignore\">\n",
       "  <thead>\n",
       "    <tr style=\"text-align: right;\">\n",
       "      <th></th>\n",
       "      <th>and</th>\n",
       "      <th>for</th>\n",
       "      <th>in</th>\n",
       "      <th>is</th>\n",
       "      <th>it</th>\n",
       "      <th>of</th>\n",
       "      <th>that</th>\n",
       "      <th>the</th>\n",
       "      <th>to</th>\n",
       "      <th>you</th>\n",
       "    </tr>\n",
       "  </thead>\n",
       "  <tbody>\n",
       "    <tr>\n",
       "      <th>0</th>\n",
       "      <td>0.322609</td>\n",
       "      <td>0.077590</td>\n",
       "      <td>0.304553</td>\n",
       "      <td>0.238740</td>\n",
       "      <td>0.203477</td>\n",
       "      <td>0.331334</td>\n",
       "      <td>0.290966</td>\n",
       "      <td>0.278467</td>\n",
       "      <td>0.334292</td>\n",
       "      <td>0.561259</td>\n",
       "    </tr>\n",
       "    <tr>\n",
       "      <th>1</th>\n",
       "      <td>0.090518</td>\n",
       "      <td>0.097966</td>\n",
       "      <td>0.096133</td>\n",
       "      <td>0.100479</td>\n",
       "      <td>0.000000</td>\n",
       "      <td>0.092966</td>\n",
       "      <td>0.104965</td>\n",
       "      <td>0.937591</td>\n",
       "      <td>0.253249</td>\n",
       "      <td>0.000000</td>\n",
       "    </tr>\n",
       "    <tr>\n",
       "      <th>2</th>\n",
       "      <td>0.173200</td>\n",
       "      <td>0.187451</td>\n",
       "      <td>0.367889</td>\n",
       "      <td>0.192259</td>\n",
       "      <td>0.196634</td>\n",
       "      <td>0.355768</td>\n",
       "      <td>0.401688</td>\n",
       "      <td>0.448504</td>\n",
       "      <td>0.484575</td>\n",
       "      <td>0.000000</td>\n",
       "    </tr>\n",
       "    <tr>\n",
       "      <th>3</th>\n",
       "      <td>0.468758</td>\n",
       "      <td>0.000000</td>\n",
       "      <td>0.355598</td>\n",
       "      <td>0.520342</td>\n",
       "      <td>0.152052</td>\n",
       "      <td>0.206330</td>\n",
       "      <td>0.077654</td>\n",
       "      <td>0.462422</td>\n",
       "      <td>0.312257</td>\n",
       "      <td>0.000000</td>\n",
       "    </tr>\n",
       "    <tr>\n",
       "      <th>4</th>\n",
       "      <td>0.000000</td>\n",
       "      <td>0.328237</td>\n",
       "      <td>0.322097</td>\n",
       "      <td>0.000000</td>\n",
       "      <td>0.000000</td>\n",
       "      <td>0.000000</td>\n",
       "      <td>0.000000</td>\n",
       "      <td>0.261785</td>\n",
       "      <td>0.848518</td>\n",
       "      <td>0.000000</td>\n",
       "    </tr>\n",
       "    <tr>\n",
       "      <th>...</th>\n",
       "      <td>...</td>\n",
       "      <td>...</td>\n",
       "      <td>...</td>\n",
       "      <td>...</td>\n",
       "      <td>...</td>\n",
       "      <td>...</td>\n",
       "      <td>...</td>\n",
       "      <td>...</td>\n",
       "      <td>...</td>\n",
       "      <td>...</td>\n",
       "    </tr>\n",
       "    <tr>\n",
       "      <th>2833</th>\n",
       "      <td>0.135376</td>\n",
       "      <td>0.097676</td>\n",
       "      <td>0.095849</td>\n",
       "      <td>0.450819</td>\n",
       "      <td>0.256154</td>\n",
       "      <td>0.370765</td>\n",
       "      <td>0.418620</td>\n",
       "      <td>0.350558</td>\n",
       "      <td>0.505001</td>\n",
       "      <td>0.058880</td>\n",
       "    </tr>\n",
       "    <tr>\n",
       "      <th>2834</th>\n",
       "      <td>0.296277</td>\n",
       "      <td>0.192393</td>\n",
       "      <td>0.755176</td>\n",
       "      <td>0.328880</td>\n",
       "      <td>0.000000</td>\n",
       "      <td>0.121716</td>\n",
       "      <td>0.274852</td>\n",
       "      <td>0.306886</td>\n",
       "      <td>0.110522</td>\n",
       "      <td>0.000000</td>\n",
       "    </tr>\n",
       "    <tr>\n",
       "      <th>2835</th>\n",
       "      <td>0.489400</td>\n",
       "      <td>0.794502</td>\n",
       "      <td>0.000000</td>\n",
       "      <td>0.000000</td>\n",
       "      <td>0.277808</td>\n",
       "      <td>0.000000</td>\n",
       "      <td>0.000000</td>\n",
       "      <td>0.000000</td>\n",
       "      <td>0.228205</td>\n",
       "      <td>0.000000</td>\n",
       "    </tr>\n",
       "    <tr>\n",
       "      <th>2836</th>\n",
       "      <td>0.000000</td>\n",
       "      <td>0.000000</td>\n",
       "      <td>0.000000</td>\n",
       "      <td>0.000000</td>\n",
       "      <td>0.000000</td>\n",
       "      <td>0.000000</td>\n",
       "      <td>0.000000</td>\n",
       "      <td>0.000000</td>\n",
       "      <td>0.000000</td>\n",
       "      <td>0.000000</td>\n",
       "    </tr>\n",
       "    <tr>\n",
       "      <th>2837</th>\n",
       "      <td>0.000000</td>\n",
       "      <td>0.105889</td>\n",
       "      <td>0.103908</td>\n",
       "      <td>0.325815</td>\n",
       "      <td>0.000000</td>\n",
       "      <td>0.502423</td>\n",
       "      <td>0.567271</td>\n",
       "      <td>0.168903</td>\n",
       "      <td>0.091243</td>\n",
       "      <td>0.510644</td>\n",
       "    </tr>\n",
       "  </tbody>\n",
       "</table>\n",
       "<p>2838 rows × 10 columns</p>\n",
       "</div>"
      ],
      "text/plain": [
       "           and       for        in        is        it        of      that  \\\n",
       "0     0.322609  0.077590  0.304553  0.238740  0.203477  0.331334  0.290966   \n",
       "1     0.090518  0.097966  0.096133  0.100479  0.000000  0.092966  0.104965   \n",
       "2     0.173200  0.187451  0.367889  0.192259  0.196634  0.355768  0.401688   \n",
       "3     0.468758  0.000000  0.355598  0.520342  0.152052  0.206330  0.077654   \n",
       "4     0.000000  0.328237  0.322097  0.000000  0.000000  0.000000  0.000000   \n",
       "...        ...       ...       ...       ...       ...       ...       ...   \n",
       "2833  0.135376  0.097676  0.095849  0.450819  0.256154  0.370765  0.418620   \n",
       "2834  0.296277  0.192393  0.755176  0.328880  0.000000  0.121716  0.274852   \n",
       "2835  0.489400  0.794502  0.000000  0.000000  0.277808  0.000000  0.000000   \n",
       "2836  0.000000  0.000000  0.000000  0.000000  0.000000  0.000000  0.000000   \n",
       "2837  0.000000  0.105889  0.103908  0.325815  0.000000  0.502423  0.567271   \n",
       "\n",
       "           the        to       you  \n",
       "0     0.278467  0.334292  0.561259  \n",
       "1     0.937591  0.253249  0.000000  \n",
       "2     0.448504  0.484575  0.000000  \n",
       "3     0.462422  0.312257  0.000000  \n",
       "4     0.261785  0.848518  0.000000  \n",
       "...        ...       ...       ...  \n",
       "2833  0.350558  0.505001  0.058880  \n",
       "2834  0.306886  0.110522  0.000000  \n",
       "2835  0.000000  0.228205  0.000000  \n",
       "2836  0.000000  0.000000  0.000000  \n",
       "2837  0.168903  0.091243  0.510644  \n",
       "\n",
       "[2838 rows x 10 columns]"
      ]
     },
     "execution_count": 24,
     "metadata": {},
     "output_type": "execute_result"
    }
   ],
   "source": [
    "# Import the relevant vectorizer class\n",
    "from sklearn.feature_extraction.text import TfidfVectorizer\n",
    "\n",
    "# Instantiate a vectorizer with max_features=10\n",
    "# (we are using the default token pattern)\n",
    "tfidf = TfidfVectorizer(max_features=10)\n",
    "\n",
    "# Fit the vectorizer on X_train[\"text\"] and transform it\n",
    "X_train_vectorized = tfidf.fit_transform(X_train[\"text\"])\n",
    "\n",
    "# Visually inspect the vectorized data\n",
    "pd.DataFrame.sparse.from_spmatrix(X_train_vectorized, columns=tfidf.get_feature_names())"
   ]
  },
  {
   "cell_type": "markdown",
   "metadata": {},
   "source": [
    "Check the shape of your vectorized data:"
   ]
  },
  {
   "cell_type": "code",
   "execution_count": 25,
   "metadata": {},
   "outputs": [],
   "source": [
    "# Run this cell without changes\n",
    "\n",
    "# We should still have the same number of rows\n",
    "assert X_train_vectorized.shape[0] == X_train.shape[0]\n",
    "\n",
    "# The vectorized version should have 10 columns, since we set\n",
    "# max_features=10\n",
    "assert X_train_vectorized.shape[1] == 10"
   ]
  },
  {
   "cell_type": "markdown",
   "metadata": {},
   "source": [
    "Now that we have preprocessed data, fit and evaluate a multinomial Naive Bayes classifier ([documentation here](https://scikit-learn.org/stable/modules/generated/sklearn.naive_bayes.MultinomialNB.html)) using `cross_val_score` ([documentation here](https://scikit-learn.org/stable/modules/generated/sklearn.model_selection.cross_val_score.html))."
   ]
  },
  {
   "cell_type": "code",
   "execution_count": 26,
   "metadata": {},
   "outputs": [
    {
     "data": {
      "text/plain": [
       "array([0.39964789, 0.41725352, 0.3943662 , 0.42151675, 0.37389771])"
      ]
     },
     "execution_count": 26,
     "metadata": {},
     "output_type": "execute_result"
    }
   ],
   "source": [
    "\n",
    "from sklearn.naive_bayes import MultinomialNB\n",
    "from sklearn.model_selection import cross_val_score\n",
    "\n",
    "# Instantiate a MultinomialNB classifier\n",
    "baseline_model = MultinomialNB()\n",
    "\n",
    "# Evaluate the classifier on X_train_vectorized and y_train\n",
    "baseline_cv = cross_val_score(baseline_model, X_train_vectorized, y_train)\n",
    "baseline_cv"
   ]
  },
  {
   "cell_type": "markdown",
   "metadata": {},
   "source": [
    "How well is this model performing? Well, recall the class balance:"
   ]
  },
  {
   "cell_type": "code",
   "execution_count": 27,
   "metadata": {},
   "outputs": [
    {
     "data": {
      "text/plain": [
       "2    0.211416\n",
       "3    0.209655\n",
       "0    0.208950\n",
       "1    0.206131\n",
       "4    0.163848\n",
       "Name: category, dtype: float64"
      ]
     },
     "execution_count": 27,
     "metadata": {},
     "output_type": "execute_result"
    }
   ],
   "source": [
    "# Run this cell without changes\n",
    "y_train.value_counts(normalize=True)"
   ]
  },
  {
   "cell_type": "markdown",
   "metadata": {},
   "source": [
    "If we guessed the plurality class every time (class `2`), we would expect about 21% accuracy. So when this model is getting 37-42% accuracy, that is a clear improvement over just guessing. But with an accuracy below 50%, we still expect the model to guess the wrong class the majority of the time. Let's see if we can improve that with more sophisticated preprocessing."
   ]
  },
  {
   "cell_type": "markdown",
   "metadata": {},
   "source": [
    "## 4. Iteratively Perform and Evaluate Preprocessing and Feature Engineering Techniques\n",
    "\n",
    "Now that we have our baseline, the fun part begins. As you've seen throughout this section, preprocessing text data is a bit more challenging that working with more traditional data types because there's no clear-cut answer for exactly what sort of preprocessing we need to do. As we are preprocessing our text data, we need to make some decisions about things such as:\n",
    "\n",
    "* Do we remove stop words or not?\n",
    "* What should be counted as a token? Do we stem or lemmatize our text data, or leave the words as is? Do we want to include non-\"words\" in our tokens?\n",
    "* Do we engineer other features, such as bigrams, or POS tags, or Mutual Information Scores?\n",
    "* Do we use the entire vocabulary, or just limit the model to a subset of the most frequently used words? If so, how many?\n",
    "* What sort of vectorization should we use in our model? Boolean Vectorization? Count Vectorization? TF-IDF? More advanced vectorization strategies such as Word2Vec?\n",
    "\n",
    "In this lab, we will work through the first four of these."
   ]
  },
  {
   "cell_type": "markdown",
   "metadata": {},
   "source": [
    "### Removing Stopwords\n",
    "\n",
    "Let's begin with the first question: ***do we remove stopwords or not?*** In general we assume that stopwords do not contain useful information, but that is not always the case. Let's empirically investigate the top word frequencies of each category to see whether removing stopwords helps us to distinguish between the catogories.\n",
    "\n",
    "As-is, recall that the raw word frequency distributions of 4 out of 5 categories look very similar. They start with `the` as the word with by far the highest frequency, then there is a downward slope of other common words, starting with `to`. The `misc.forsale` category looks a little different, but it still has `the` as the top token.\n",
    "\n",
    "If we remove stopwords, how does this change the frequency distributions for each category?\n",
    "\n",
    "#### Stopwords List\n",
    "\n",
    "Once again, NLTK has a useful tool for this task. You can just import a list of standard stopwords:"
   ]
  },
  {
   "cell_type": "code",
   "execution_count": 28,
   "metadata": {},
   "outputs": [
    {
     "data": {
      "text/plain": [
       "['i',\n",
       " 'me',\n",
       " 'my',\n",
       " 'myself',\n",
       " 'we',\n",
       " 'our',\n",
       " 'ours',\n",
       " 'ourselves',\n",
       " 'you',\n",
       " \"you're\",\n",
       " \"you've\",\n",
       " \"you'll\",\n",
       " \"you'd\",\n",
       " 'your',\n",
       " 'yours',\n",
       " 'yourself',\n",
       " 'yourselves',\n",
       " 'he',\n",
       " 'him',\n",
       " 'his']"
      ]
     },
     "execution_count": 28,
     "metadata": {},
     "output_type": "execute_result"
    }
   ],
   "source": [
    "# Run this cell without changes\n",
    "import nltk\n",
    "nltk.download('stopwords', quiet=True)\n",
    "from nltk.corpus import stopwords\n",
    "\n",
    "stopwords_list = stopwords.words('english')\n",
    "stopwords_list[:20]"
   ]
  },
  {
   "cell_type": "markdown",
   "metadata": {},
   "source": [
    "We can customize that list as well.\n",
    "\n",
    "Let's say that we want to keep the word `\"for\"` in our final vocabulary, since it appears disproportionately often in the `misc.forsale` category. The code below removes that from the stopwords:"
   ]
  },
  {
   "cell_type": "code",
   "execution_count": 29,
   "metadata": {},
   "outputs": [
    {
     "name": "stdout",
     "output_type": "stream",
     "text": [
      "Original list length: 179\n",
      "List length after removing 'for': 178\n"
     ]
    }
   ],
   "source": [
    "# Run this cell without changes\n",
    "print(\"Original list length:\", len(stopwords_list))\n",
    "stopwords_list.pop(stopwords_list.index(\"for\"))\n",
    "print(\"List length after removing 'for':\", len(stopwords_list))"
   ]
  },
  {
   "cell_type": "markdown",
   "metadata": {},
   "source": [
    "In the cell below, write a function `remove_stopwords` that takes in a list-like collection of strings (tokens) and returns only those that are not in the list of stopwords. (Use the `stopwords_list` in the global scope, so that we can later use `.apply` with this function.)"
   ]
  },
  {
   "cell_type": "code",
   "execution_count": 30,
   "metadata": {},
   "outputs": [],
   "source": [
    "\n",
    "def remove_stopwords(token_list):\n",
    "    \"\"\"\n",
    "    Given a list of tokens, return a list where the tokens\n",
    "    that are also present in stopwords_list have been\n",
    "    removed\n",
    "    \"\"\"\n",
    "    stopwords_removed = [token for token in token_list if token not in stopwords_list]\n",
    "    return stopwords_removed"
   ]
  },
  {
   "cell_type": "markdown",
   "metadata": {},
   "source": [
    "Test it out on one example:"
   ]
  },
  {
   "cell_type": "code",
   "execution_count": 31,
   "metadata": {},
   "outputs": [
    {
     "name": "stdout",
     "output_type": "stream",
     "text": [
      "Length with stopwords: 110\n",
      "Length without stopwords: 65\n"
     ]
    }
   ],
   "source": [
    "# Run this cell without changes\n",
    "tokens_example = X_train.iloc[100][\"text_tokenized\"]\n",
    "print(\"Length with stopwords:\", len(tokens_example))\n",
    "assert len(tokens_example) == 110\n",
    "\n",
    "tokens_example_without_stopwords = remove_stopwords(tokens_example)\n",
    "print(\"Length without stopwords:\", len(tokens_example_without_stopwords))\n",
    "assert len(tokens_example_without_stopwords) == 65"
   ]
  },
  {
   "cell_type": "markdown",
   "metadata": {},
   "source": [
    "If that ran successfully, go ahead and apply it to the full `X_train`."
   ]
  },
  {
   "cell_type": "code",
   "execution_count": 32,
   "metadata": {},
   "outputs": [],
   "source": [
    "# Run this cell without changes\n",
    "X_train[\"text_without_stopwords\"] = X_train[\"text_tokenized\"].apply(remove_stopwords)"
   ]
  },
  {
   "cell_type": "markdown",
   "metadata": {},
   "source": [
    "Now we can compare frequency distributions without stopwords:"
   ]
  },
  {
   "cell_type": "code",
   "execution_count": 33,
   "metadata": {},
   "outputs": [
    {
     "data": {
      "image/png": "[encoded data removed]",
      "text/plain": [
       "<Figure size 1080x648 with 5 Axes>"
      ]
     },
     "metadata": {
      "needs_background": "light"
     },
     "output_type": "display_data"
    }
   ],
   "source": [
    "# Run this cell without changes\n",
    "fig, axes = setup_five_subplots()\n",
    "plot_distribution_of_column_by_category(\"text_without_stopwords\", axes)\n",
    "fig.suptitle(\"Word Frequencies without Stopwords\", fontsize=24);"
   ]
  },
  {
   "cell_type": "markdown",
   "metadata": {},
   "source": [
    "Ok, this seems to answer our question. The most common words differ significantly between categories now, meaning that hopefully our model will have an easier time distinguishing between them.\n",
    "\n",
    "Let's redo our modeling process, using `stopwords_list` when instantiating the vectorizer:"
   ]
  },
  {
   "cell_type": "code",
   "execution_count": 34,
   "metadata": {},
   "outputs": [
    {
     "data": {
      "text/html": [
       "<div>\n",
       "<style scoped>\n",
       "    .dataframe tbody tr th:only-of-type {\n",
       "        vertical-align: middle;\n",
       "    }\n",
       "\n",
       "    .dataframe tbody tr th {\n",
       "        vertical-align: top;\n",
       "    }\n",
       "\n",
       "    .dataframe thead th {\n",
       "        text-align: right;\n",
       "    }\n",
       "</style>\n",
       "<table border=\"1\" class=\"dataframe tex2jax_ignore\">\n",
       "  <thead>\n",
       "    <tr style=\"text-align: right;\">\n",
       "      <th></th>\n",
       "      <th>edu</th>\n",
       "      <th>for</th>\n",
       "      <th>get</th>\n",
       "      <th>key</th>\n",
       "      <th>like</th>\n",
       "      <th>new</th>\n",
       "      <th>one</th>\n",
       "      <th>people</th>\n",
       "      <th>use</th>\n",
       "      <th>would</th>\n",
       "    </tr>\n",
       "  </thead>\n",
       "  <tbody>\n",
       "    <tr>\n",
       "      <th>0</th>\n",
       "      <td>0.000000</td>\n",
       "      <td>0.599601</td>\n",
       "      <td>0.000000</td>\n",
       "      <td>0.0</td>\n",
       "      <td>0.000000</td>\n",
       "      <td>0.561043</td>\n",
       "      <td>0.000000</td>\n",
       "      <td>0.570709</td>\n",
       "      <td>0.000000</td>\n",
       "      <td>0.000000</td>\n",
       "    </tr>\n",
       "    <tr>\n",
       "      <th>1</th>\n",
       "      <td>0.000000</td>\n",
       "      <td>0.502172</td>\n",
       "      <td>0.864768</td>\n",
       "      <td>0.0</td>\n",
       "      <td>0.000000</td>\n",
       "      <td>0.000000</td>\n",
       "      <td>0.000000</td>\n",
       "      <td>0.000000</td>\n",
       "      <td>0.000000</td>\n",
       "      <td>0.000000</td>\n",
       "    </tr>\n",
       "    <tr>\n",
       "      <th>2</th>\n",
       "      <td>0.000000</td>\n",
       "      <td>1.000000</td>\n",
       "      <td>0.000000</td>\n",
       "      <td>0.0</td>\n",
       "      <td>0.000000</td>\n",
       "      <td>0.000000</td>\n",
       "      <td>0.000000</td>\n",
       "      <td>0.000000</td>\n",
       "      <td>0.000000</td>\n",
       "      <td>0.000000</td>\n",
       "    </tr>\n",
       "    <tr>\n",
       "      <th>3</th>\n",
       "      <td>0.000000</td>\n",
       "      <td>0.000000</td>\n",
       "      <td>0.000000</td>\n",
       "      <td>0.0</td>\n",
       "      <td>0.000000</td>\n",
       "      <td>0.000000</td>\n",
       "      <td>0.000000</td>\n",
       "      <td>0.525951</td>\n",
       "      <td>0.000000</td>\n",
       "      <td>0.850515</td>\n",
       "    </tr>\n",
       "    <tr>\n",
       "      <th>4</th>\n",
       "      <td>0.908329</td>\n",
       "      <td>0.418257</td>\n",
       "      <td>0.000000</td>\n",
       "      <td>0.0</td>\n",
       "      <td>0.000000</td>\n",
       "      <td>0.000000</td>\n",
       "      <td>0.000000</td>\n",
       "      <td>0.000000</td>\n",
       "      <td>0.000000</td>\n",
       "      <td>0.000000</td>\n",
       "    </tr>\n",
       "    <tr>\n",
       "      <th>...</th>\n",
       "      <td>...</td>\n",
       "      <td>...</td>\n",
       "      <td>...</td>\n",
       "      <td>...</td>\n",
       "      <td>...</td>\n",
       "      <td>...</td>\n",
       "      <td>...</td>\n",
       "      <td>...</td>\n",
       "      <td>...</td>\n",
       "      <td>...</td>\n",
       "    </tr>\n",
       "    <tr>\n",
       "      <th>2833</th>\n",
       "      <td>0.000000</td>\n",
       "      <td>0.575451</td>\n",
       "      <td>0.495478</td>\n",
       "      <td>0.0</td>\n",
       "      <td>0.476688</td>\n",
       "      <td>0.000000</td>\n",
       "      <td>0.000000</td>\n",
       "      <td>0.000000</td>\n",
       "      <td>0.000000</td>\n",
       "      <td>0.442862</td>\n",
       "    </tr>\n",
       "    <tr>\n",
       "      <th>2834</th>\n",
       "      <td>0.000000</td>\n",
       "      <td>0.867274</td>\n",
       "      <td>0.497831</td>\n",
       "      <td>0.0</td>\n",
       "      <td>0.000000</td>\n",
       "      <td>0.000000</td>\n",
       "      <td>0.000000</td>\n",
       "      <td>0.000000</td>\n",
       "      <td>0.000000</td>\n",
       "      <td>0.000000</td>\n",
       "    </tr>\n",
       "    <tr>\n",
       "      <th>2835</th>\n",
       "      <td>0.000000</td>\n",
       "      <td>0.695901</td>\n",
       "      <td>0.000000</td>\n",
       "      <td>0.0</td>\n",
       "      <td>0.000000</td>\n",
       "      <td>0.000000</td>\n",
       "      <td>0.718138</td>\n",
       "      <td>0.000000</td>\n",
       "      <td>0.000000</td>\n",
       "      <td>0.000000</td>\n",
       "    </tr>\n",
       "    <tr>\n",
       "      <th>2836</th>\n",
       "      <td>0.000000</td>\n",
       "      <td>0.000000</td>\n",
       "      <td>0.000000</td>\n",
       "      <td>0.0</td>\n",
       "      <td>0.000000</td>\n",
       "      <td>0.000000</td>\n",
       "      <td>0.000000</td>\n",
       "      <td>0.000000</td>\n",
       "      <td>0.000000</td>\n",
       "      <td>0.000000</td>\n",
       "    </tr>\n",
       "    <tr>\n",
       "      <th>2837</th>\n",
       "      <td>0.000000</td>\n",
       "      <td>0.312260</td>\n",
       "      <td>0.537729</td>\n",
       "      <td>0.0</td>\n",
       "      <td>0.517336</td>\n",
       "      <td>0.000000</td>\n",
       "      <td>0.000000</td>\n",
       "      <td>0.000000</td>\n",
       "      <td>0.587966</td>\n",
       "      <td>0.000000</td>\n",
       "    </tr>\n",
       "  </tbody>\n",
       "</table>\n",
       "<p>2838 rows × 10 columns</p>\n",
       "</div>"
      ],
      "text/plain": [
       "           edu       for       get  key      like       new       one  \\\n",
       "0     0.000000  0.599601  0.000000  0.0  0.000000  0.561043  0.000000   \n",
       "1     0.000000  0.502172  0.864768  0.0  0.000000  0.000000  0.000000   \n",
       "2     0.000000  1.000000  0.000000  0.0  0.000000  0.000000  0.000000   \n",
       "3     0.000000  0.000000  0.000000  0.0  0.000000  0.000000  0.000000   \n",
       "4     0.908329  0.418257  0.000000  0.0  0.000000  0.000000  0.000000   \n",
       "...        ...       ...       ...  ...       ...       ...       ...   \n",
       "2833  0.000000  0.575451  0.495478  0.0  0.476688  0.000000  0.000000   \n",
       "2834  0.000000  0.867274  0.497831  0.0  0.000000  0.000000  0.000000   \n",
       "2835  0.000000  0.695901  0.000000  0.0  0.000000  0.000000  0.718138   \n",
       "2836  0.000000  0.000000  0.000000  0.0  0.000000  0.000000  0.000000   \n",
       "2837  0.000000  0.312260  0.537729  0.0  0.517336  0.000000  0.000000   \n",
       "\n",
       "        people       use     would  \n",
       "0     0.570709  0.000000  0.000000  \n",
       "1     0.000000  0.000000  0.000000  \n",
       "2     0.000000  0.000000  0.000000  \n",
       "3     0.525951  0.000000  0.850515  \n",
       "4     0.000000  0.000000  0.000000  \n",
       "...        ...       ...       ...  \n",
       "2833  0.000000  0.000000  0.442862  \n",
       "2834  0.000000  0.000000  0.000000  \n",
       "2835  0.000000  0.000000  0.000000  \n",
       "2836  0.000000  0.000000  0.000000  \n",
       "2837  0.000000  0.587966  0.000000  \n",
       "\n",
       "[2838 rows x 10 columns]"
      ]
     },
     "execution_count": 34,
     "metadata": {},
     "output_type": "execute_result"
    }
   ],
   "source": [
    "# Run this cell without changes\n",
    "\n",
    "# Instantiate the vectorizer\n",
    "tfidf = TfidfVectorizer(\n",
    "    max_features=10,\n",
    "    stop_words=stopwords_list\n",
    ")\n",
    "\n",
    "# Fit the vectorizer on X_train[\"text\"] and transform it\n",
    "X_train_vectorized = tfidf.fit_transform(X_train[\"text\"])\n",
    "\n",
    "# Visually inspect the vectorized data\n",
    "pd.DataFrame.sparse.from_spmatrix(X_train_vectorized, columns=tfidf.get_feature_names())"
   ]
  },
  {
   "cell_type": "code",
   "execution_count": 35,
   "metadata": {},
   "outputs": [
    {
     "data": {
      "text/plain": [
       "array([0.40669014, 0.42077465, 0.37676056, 0.45502646, 0.42857143])"
      ]
     },
     "execution_count": 35,
     "metadata": {},
     "output_type": "execute_result"
    }
   ],
   "source": [
    "# Run this cell without changes\n",
    "\n",
    "# Evaluate the classifier on X_train_vectorized and y_train\n",
    "stopwords_removed_cv = cross_val_score(baseline_model, X_train_vectorized, y_train)\n",
    "stopwords_removed_cv"
   ]
  },
  {
   "cell_type": "markdown",
   "metadata": {},
   "source": [
    "How does this compare to our baseline?"
   ]
  },
  {
   "cell_type": "code",
   "execution_count": 36,
   "metadata": {},
   "outputs": [
    {
     "name": "stdout",
     "output_type": "stream",
     "text": [
      "Baseline:          0.4013364135429863\n",
      "Stopwords removed: 0.41756464714211183\n"
     ]
    }
   ],
   "source": [
    "# Run this cell without changes\n",
    "print(\"Baseline:         \", baseline_cv.mean())\n",
    "print(\"Stopwords removed:\", stopwords_removed_cv.mean())"
   ]
  },
  {
   "cell_type": "markdown",
   "metadata": {},
   "source": [
    "Looks like we have a marginal improvement, but still an improvement. So, to answer ***do we remove stopwords or not:*** yes, let's remove stopwords."
   ]
  },
  {
   "cell_type": "markdown",
   "metadata": {},
   "source": [
    "### Using Custom Tokens\n",
    "\n",
    "Our next question is ***what should be counted as a token?***\n",
    "\n",
    "Recall that currently we are using the default token pattern, which finds words of two or more characters. What happens if we also *stem* those words, so that `swims` and `swimming` would count as the same token?\n",
    "\n",
    "Here we have provided a custom tokenizing function:"
   ]
  },
  {
   "cell_type": "code",
   "execution_count": 37,
   "metadata": {},
   "outputs": [],
   "source": [
    "# Run this cell without changes\n",
    "from nltk.stem.snowball import SnowballStemmer\n",
    "stemmer = SnowballStemmer(language=\"english\")\n",
    "\n",
    "def stem_and_tokenize(document):\n",
    "    tokens = tokenizer.tokenize(document)\n",
    "    return [stemmer.stem(token) for token in tokens]"
   ]
  },
  {
   "cell_type": "markdown",
   "metadata": {},
   "source": [
    "This uses `tokenizer` that we created earlier, as well as a new `stemmer` object. See an example below:"
   ]
  },
  {
   "cell_type": "code",
   "execution_count": 38,
   "metadata": {},
   "outputs": [
    {
     "name": "stdout",
     "output_type": "stream",
     "text": [
      "Original sample: ['happening', 'because', 'am', 'not', 'using', 'xtappmainloop', 'but', 'am', 'dealing', 'with']\n",
      "Stemmed sample:  ['happen', 'becaus', 'am', 'not', 'use', 'xtappmainloop', 'but', 'am', 'deal', 'with']\n"
     ]
    }
   ],
   "source": [
    "# Run this cell without changes\n",
    "print(\"Original sample:\", X_train.iloc[100][\"text_tokenized\"][20:30])\n",
    "print(\"Stemmed sample: \", stem_and_tokenize(X_train.iloc[100][\"text\"])[20:30])"
   ]
  },
  {
   "cell_type": "markdown",
   "metadata": {},
   "source": [
    "We also need to stem our stopwords:"
   ]
  },
  {
   "cell_type": "code",
   "execution_count": 39,
   "metadata": {},
   "outputs": [],
   "source": [
    "# Run this cell without changes\n",
    "stemmed_stopwords = [stemmer.stem(word) for word in stopwords_list]"
   ]
  },
  {
   "cell_type": "markdown",
   "metadata": {},
   "source": [
    "In the cells below, repeat the modeling process from earlier. This time when instantiating the `TfidfVectorizer`, specify:\n",
    "\n",
    "* `max_features=10` (same as previous)\n",
    "* `stop_words=stemmed_stopwords` (modified)\n",
    "* `tokenizer=stem_and_tokenize` (new)"
   ]
  },
  {
   "cell_type": "code",
   "execution_count": 40,
   "metadata": {},
   "outputs": [
    {
     "data": {
      "text/html": [
       "<div>\n",
       "<style scoped>\n",
       "    .dataframe tbody tr th:only-of-type {\n",
       "        vertical-align: middle;\n",
       "    }\n",
       "\n",
       "    .dataframe tbody tr th {\n",
       "        vertical-align: top;\n",
       "    }\n",
       "\n",
       "    .dataframe thead th {\n",
       "        text-align: right;\n",
       "    }\n",
       "</style>\n",
       "<table border=\"1\" class=\"dataframe tex2jax_ignore\">\n",
       "  <thead>\n",
       "    <tr style=\"text-align: right;\">\n",
       "      <th></th>\n",
       "      <th>edu</th>\n",
       "      <th>for</th>\n",
       "      <th>get</th>\n",
       "      <th>key</th>\n",
       "      <th>like</th>\n",
       "      <th>new</th>\n",
       "      <th>one</th>\n",
       "      <th>people</th>\n",
       "      <th>use</th>\n",
       "      <th>would</th>\n",
       "    </tr>\n",
       "  </thead>\n",
       "  <tbody>\n",
       "    <tr>\n",
       "      <th>0</th>\n",
       "      <td>0.000000</td>\n",
       "      <td>0.599601</td>\n",
       "      <td>0.000000</td>\n",
       "      <td>0.0</td>\n",
       "      <td>0.000000</td>\n",
       "      <td>0.561043</td>\n",
       "      <td>0.000000</td>\n",
       "      <td>0.570709</td>\n",
       "      <td>0.000000</td>\n",
       "      <td>0.000000</td>\n",
       "    </tr>\n",
       "    <tr>\n",
       "      <th>1</th>\n",
       "      <td>0.000000</td>\n",
       "      <td>0.502172</td>\n",
       "      <td>0.864768</td>\n",
       "      <td>0.0</td>\n",
       "      <td>0.000000</td>\n",
       "      <td>0.000000</td>\n",
       "      <td>0.000000</td>\n",
       "      <td>0.000000</td>\n",
       "      <td>0.000000</td>\n",
       "      <td>0.000000</td>\n",
       "    </tr>\n",
       "    <tr>\n",
       "      <th>2</th>\n",
       "      <td>0.000000</td>\n",
       "      <td>1.000000</td>\n",
       "      <td>0.000000</td>\n",
       "      <td>0.0</td>\n",
       "      <td>0.000000</td>\n",
       "      <td>0.000000</td>\n",
       "      <td>0.000000</td>\n",
       "      <td>0.000000</td>\n",
       "      <td>0.000000</td>\n",
       "      <td>0.000000</td>\n",
       "    </tr>\n",
       "    <tr>\n",
       "      <th>3</th>\n",
       "      <td>0.000000</td>\n",
       "      <td>0.000000</td>\n",
       "      <td>0.000000</td>\n",
       "      <td>0.0</td>\n",
       "      <td>0.000000</td>\n",
       "      <td>0.000000</td>\n",
       "      <td>0.000000</td>\n",
       "      <td>0.525951</td>\n",
       "      <td>0.000000</td>\n",
       "      <td>0.850515</td>\n",
       "    </tr>\n",
       "    <tr>\n",
       "      <th>4</th>\n",
       "      <td>0.908329</td>\n",
       "      <td>0.418257</td>\n",
       "      <td>0.000000</td>\n",
       "      <td>0.0</td>\n",
       "      <td>0.000000</td>\n",
       "      <td>0.000000</td>\n",
       "      <td>0.000000</td>\n",
       "      <td>0.000000</td>\n",
       "      <td>0.000000</td>\n",
       "      <td>0.000000</td>\n",
       "    </tr>\n",
       "    <tr>\n",
       "      <th>...</th>\n",
       "      <td>...</td>\n",
       "      <td>...</td>\n",
       "      <td>...</td>\n",
       "      <td>...</td>\n",
       "      <td>...</td>\n",
       "      <td>...</td>\n",
       "      <td>...</td>\n",
       "      <td>...</td>\n",
       "      <td>...</td>\n",
       "      <td>...</td>\n",
       "    </tr>\n",
       "    <tr>\n",
       "      <th>2833</th>\n",
       "      <td>0.000000</td>\n",
       "      <td>0.575451</td>\n",
       "      <td>0.495478</td>\n",
       "      <td>0.0</td>\n",
       "      <td>0.476688</td>\n",
       "      <td>0.000000</td>\n",
       "      <td>0.000000</td>\n",
       "      <td>0.000000</td>\n",
       "      <td>0.000000</td>\n",
       "      <td>0.442862</td>\n",
       "    </tr>\n",
       "    <tr>\n",
       "      <th>2834</th>\n",
       "      <td>0.000000</td>\n",
       "      <td>0.867274</td>\n",
       "      <td>0.497831</td>\n",
       "      <td>0.0</td>\n",
       "      <td>0.000000</td>\n",
       "      <td>0.000000</td>\n",
       "      <td>0.000000</td>\n",
       "      <td>0.000000</td>\n",
       "      <td>0.000000</td>\n",
       "      <td>0.000000</td>\n",
       "    </tr>\n",
       "    <tr>\n",
       "      <th>2835</th>\n",
       "      <td>0.000000</td>\n",
       "      <td>0.695901</td>\n",
       "      <td>0.000000</td>\n",
       "      <td>0.0</td>\n",
       "      <td>0.000000</td>\n",
       "      <td>0.000000</td>\n",
       "      <td>0.718138</td>\n",
       "      <td>0.000000</td>\n",
       "      <td>0.000000</td>\n",
       "      <td>0.000000</td>\n",
       "    </tr>\n",
       "    <tr>\n",
       "      <th>2836</th>\n",
       "      <td>0.000000</td>\n",
       "      <td>0.000000</td>\n",
       "      <td>0.000000</td>\n",
       "      <td>0.0</td>\n",
       "      <td>0.000000</td>\n",
       "      <td>0.000000</td>\n",
       "      <td>0.000000</td>\n",
       "      <td>0.000000</td>\n",
       "      <td>0.000000</td>\n",
       "      <td>0.000000</td>\n",
       "    </tr>\n",
       "    <tr>\n",
       "      <th>2837</th>\n",
       "      <td>0.000000</td>\n",
       "      <td>0.312260</td>\n",
       "      <td>0.537729</td>\n",
       "      <td>0.0</td>\n",
       "      <td>0.517336</td>\n",
       "      <td>0.000000</td>\n",
       "      <td>0.000000</td>\n",
       "      <td>0.000000</td>\n",
       "      <td>0.587966</td>\n",
       "      <td>0.000000</td>\n",
       "    </tr>\n",
       "  </tbody>\n",
       "</table>\n",
       "<p>2838 rows × 10 columns</p>\n",
       "</div>"
      ],
      "text/plain": [
       "           edu       for       get  key      like       new       one  \\\n",
       "0     0.000000  0.599601  0.000000  0.0  0.000000  0.561043  0.000000   \n",
       "1     0.000000  0.502172  0.864768  0.0  0.000000  0.000000  0.000000   \n",
       "2     0.000000  1.000000  0.000000  0.0  0.000000  0.000000  0.000000   \n",
       "3     0.000000  0.000000  0.000000  0.0  0.000000  0.000000  0.000000   \n",
       "4     0.908329  0.418257  0.000000  0.0  0.000000  0.000000  0.000000   \n",
       "...        ...       ...       ...  ...       ...       ...       ...   \n",
       "2833  0.000000  0.575451  0.495478  0.0  0.476688  0.000000  0.000000   \n",
       "2834  0.000000  0.867274  0.497831  0.0  0.000000  0.000000  0.000000   \n",
       "2835  0.000000  0.695901  0.000000  0.0  0.000000  0.000000  0.718138   \n",
       "2836  0.000000  0.000000  0.000000  0.0  0.000000  0.000000  0.000000   \n",
       "2837  0.000000  0.312260  0.537729  0.0  0.517336  0.000000  0.000000   \n",
       "\n",
       "        people       use     would  \n",
       "0     0.570709  0.000000  0.000000  \n",
       "1     0.000000  0.000000  0.000000  \n",
       "2     0.000000  0.000000  0.000000  \n",
       "3     0.525951  0.000000  0.850515  \n",
       "4     0.000000  0.000000  0.000000  \n",
       "...        ...       ...       ...  \n",
       "2833  0.000000  0.000000  0.442862  \n",
       "2834  0.000000  0.000000  0.000000  \n",
       "2835  0.000000  0.000000  0.000000  \n",
       "2836  0.000000  0.000000  0.000000  \n",
       "2837  0.000000  0.587966  0.000000  \n",
       "\n",
       "[2838 rows x 10 columns]"
      ]
     },
     "execution_count": 40,
     "metadata": {},
     "output_type": "execute_result"
    }
   ],
   "source": [
    "\n",
    "# Instantiate the vectorizer\n",
    "tfidf = TfidfVectorizer(\n",
    "    max_features=10,\n",
    "    stop_words=stopwords_list\n",
    ")\n",
    "\n",
    "# Fit the vectorizer on X_train[\"text\"] and transform it\n",
    "X_train_vectorized = tfidf.fit_transform(X_train[\"text\"])\n",
    "\n",
    "# Visually inspect the vectorized data\n",
    "pd.DataFrame.sparse.from_spmatrix(X_train_vectorized, columns=tfidf.get_feature_names())"
   ]
  },
  {
   "cell_type": "code",
   "execution_count": 41,
   "metadata": {},
   "outputs": [
    {
     "data": {
      "text/plain": [
       "array([0.40669014, 0.42077465, 0.37676056, 0.45502646, 0.42857143])"
      ]
     },
     "execution_count": 41,
     "metadata": {},
     "output_type": "execute_result"
    }
   ],
   "source": [
    "# Run this cell without changes\n",
    "\n",
    "# Evaluate the classifier on X_train_vectorized and y_train\n",
    "stemmed_cv = cross_val_score(baseline_model, X_train_vectorized, y_train)\n",
    "stemmed_cv"
   ]
  },
  {
   "cell_type": "markdown",
   "metadata": {},
   "source": [
    "How does this compare to our previous best modeling process?"
   ]
  },
  {
   "cell_type": "code",
   "execution_count": 44,
   "metadata": {},
   "outputs": [
    {
     "name": "stdout",
     "output_type": "stream",
     "text": [
      "Stopwords removed: 0.41756464714211183\n",
      "Stemmed:           0.41756464714211183\n"
     ]
    }
   ],
   "source": [
    "# Run this cell without changes\n",
    "print(\"Stopwords removed:\", stopwords_removed_cv.mean())\n",
    "print(\"Stemmed:          \", stemmed_cv.mean())"
   ]
  },
  {
   "cell_type": "markdown",
   "metadata": {},
   "source": [
    "Great! Another improvement, a slightly bigger one than we got when just removing stopwords. So, our best modeling process for now is one where we remove stopwords, use the default token pattern, and stem our tokens with a snowball stemmer."
   ]
  },
  {
   "cell_type": "markdown",
   "metadata": {},
   "source": [
    "### Domain-Specific Feature Engineering\n",
    "\n",
    "The way to really get the most information out of text data is by adding features beyond just vectorizing the tokens. This code will be completed for you, and it's okay if you don't fully understand everything that is happening, but we hope it helps you brainstorm for future projects!"
   ]
  },
  {
   "cell_type": "markdown",
   "metadata": {},
   "source": [
    "#### Number of Sentences\n",
    "\n",
    "Does the number of sentences in a post differ by category? Let's investigate.\n",
    "\n",
    "Once again, there is a tool from NLTK that helps with this task."
   ]
  },
  {
   "cell_type": "code",
   "execution_count": 45,
   "metadata": {},
   "outputs": [
    {
     "ename": "LookupError",
     "evalue": "\n**********************************************************************\n  Resource \u001b[93mpunkt\u001b[0m not found.\n  Please use the NLTK Downloader to obtain the resource:\n\n  \u001b[31m>>> import nltk\n  >>> nltk.download('punkt')\n  \u001b[0m\n  For more information see: https://www.nltk.org/data.html\n\n  Attempted to load \u001b[93mtokenizers/punkt/english.pickle\u001b[0m\n\n  Searched in:\n    - 'C:\\\\Users\\\\Gamer/nltk_data'\n    - 'C:\\\\Users\\\\Gamer\\\\anaconda3\\\\envs\\\\learn-env\\\\nltk_data'\n    - 'C:\\\\Users\\\\Gamer\\\\anaconda3\\\\envs\\\\learn-env\\\\share\\\\nltk_data'\n    - 'C:\\\\Users\\\\Gamer\\\\anaconda3\\\\envs\\\\learn-env\\\\lib\\\\nltk_data'\n    - 'C:\\\\Users\\\\Gamer\\\\AppData\\\\Roaming\\\\nltk_data'\n    - 'C:\\\\nltk_data'\n    - 'D:\\\\nltk_data'\n    - 'E:\\\\nltk_data'\n    - ''\n**********************************************************************\n",
     "output_type": "error",
     "traceback": [
      "\u001b[1;31m---------------------------------------------------------------------------\u001b[0m",
      "\u001b[1;31mLookupError\u001b[0m                               Traceback (most recent call last)",
      "\u001b[1;32m<ipython-input-45-db43a50cc7f4>\u001b[0m in \u001b[0;36m<module>\u001b[1;34m\u001b[0m\n\u001b[0;32m      2\u001b[0m \u001b[1;32mfrom\u001b[0m \u001b[0mnltk\u001b[0m\u001b[1;33m.\u001b[0m\u001b[0mtokenize\u001b[0m \u001b[1;32mimport\u001b[0m \u001b[0msent_tokenize\u001b[0m\u001b[1;33m\u001b[0m\u001b[1;33m\u001b[0m\u001b[0m\n\u001b[0;32m      3\u001b[0m \u001b[1;33m\u001b[0m\u001b[0m\n\u001b[1;32m----> 4\u001b[1;33m \u001b[0msent_tokenize\u001b[0m\u001b[1;33m(\u001b[0m\u001b[0mX_train\u001b[0m\u001b[1;33m.\u001b[0m\u001b[0miloc\u001b[0m\u001b[1;33m[\u001b[0m\u001b[1;36m100\u001b[0m\u001b[1;33m]\u001b[0m\u001b[1;33m[\u001b[0m\u001b[1;34m\"text\"\u001b[0m\u001b[1;33m]\u001b[0m\u001b[1;33m)\u001b[0m\u001b[1;33m\u001b[0m\u001b[1;33m\u001b[0m\u001b[0m\n\u001b[0m",
      "\u001b[1;32m~\\anaconda3\\envs\\learn-env\\lib\\site-packages\\nltk\\tokenize\\__init__.py\u001b[0m in \u001b[0;36msent_tokenize\u001b[1;34m(text, language)\u001b[0m\n\u001b[0;32m    104\u001b[0m     \u001b[1;33m:\u001b[0m\u001b[0mparam\u001b[0m \u001b[0mlanguage\u001b[0m\u001b[1;33m:\u001b[0m \u001b[0mthe\u001b[0m \u001b[0mmodel\u001b[0m \u001b[0mname\u001b[0m \u001b[1;32min\u001b[0m \u001b[0mthe\u001b[0m \u001b[0mPunkt\u001b[0m \u001b[0mcorpus\u001b[0m\u001b[1;33m\u001b[0m\u001b[1;33m\u001b[0m\u001b[0m\n\u001b[0;32m    105\u001b[0m     \"\"\"\n\u001b[1;32m--> 106\u001b[1;33m     \u001b[0mtokenizer\u001b[0m \u001b[1;33m=\u001b[0m \u001b[0mload\u001b[0m\u001b[1;33m(\u001b[0m\u001b[1;34m\"tokenizers/punkt/{0}.pickle\"\u001b[0m\u001b[1;33m.\u001b[0m\u001b[0mformat\u001b[0m\u001b[1;33m(\u001b[0m\u001b[0mlanguage\u001b[0m\u001b[1;33m)\u001b[0m\u001b[1;33m)\u001b[0m\u001b[1;33m\u001b[0m\u001b[1;33m\u001b[0m\u001b[0m\n\u001b[0m\u001b[0;32m    107\u001b[0m     \u001b[1;32mreturn\u001b[0m \u001b[0mtokenizer\u001b[0m\u001b[1;33m.\u001b[0m\u001b[0mtokenize\u001b[0m\u001b[1;33m(\u001b[0m\u001b[0mtext\u001b[0m\u001b[1;33m)\u001b[0m\u001b[1;33m\u001b[0m\u001b[1;33m\u001b[0m\u001b[0m\n\u001b[0;32m    108\u001b[0m \u001b[1;33m\u001b[0m\u001b[0m\n",
      "\u001b[1;32m~\\anaconda3\\envs\\learn-env\\lib\\site-packages\\nltk\\data.py\u001b[0m in \u001b[0;36mload\u001b[1;34m(resource_url, format, cache, verbose, logic_parser, fstruct_reader, encoding)\u001b[0m\n\u001b[0;32m    750\u001b[0m \u001b[1;33m\u001b[0m\u001b[0m\n\u001b[0;32m    751\u001b[0m     \u001b[1;31m# Load the resource.\u001b[0m\u001b[1;33m\u001b[0m\u001b[1;33m\u001b[0m\u001b[1;33m\u001b[0m\u001b[0m\n\u001b[1;32m--> 752\u001b[1;33m     \u001b[0mopened_resource\u001b[0m \u001b[1;33m=\u001b[0m \u001b[0m_open\u001b[0m\u001b[1;33m(\u001b[0m\u001b[0mresource_url\u001b[0m\u001b[1;33m)\u001b[0m\u001b[1;33m\u001b[0m\u001b[1;33m\u001b[0m\u001b[0m\n\u001b[0m\u001b[0;32m    753\u001b[0m \u001b[1;33m\u001b[0m\u001b[0m\n\u001b[0;32m    754\u001b[0m     \u001b[1;32mif\u001b[0m \u001b[0mformat\u001b[0m \u001b[1;33m==\u001b[0m \u001b[1;34m\"raw\"\u001b[0m\u001b[1;33m:\u001b[0m\u001b[1;33m\u001b[0m\u001b[1;33m\u001b[0m\u001b[0m\n",
      "\u001b[1;32m~\\anaconda3\\envs\\learn-env\\lib\\site-packages\\nltk\\data.py\u001b[0m in \u001b[0;36m_open\u001b[1;34m(resource_url)\u001b[0m\n\u001b[0;32m    875\u001b[0m \u001b[1;33m\u001b[0m\u001b[0m\n\u001b[0;32m    876\u001b[0m     \u001b[1;32mif\u001b[0m \u001b[0mprotocol\u001b[0m \u001b[1;32mis\u001b[0m \u001b[1;32mNone\u001b[0m \u001b[1;32mor\u001b[0m \u001b[0mprotocol\u001b[0m\u001b[1;33m.\u001b[0m\u001b[0mlower\u001b[0m\u001b[1;33m(\u001b[0m\u001b[1;33m)\u001b[0m \u001b[1;33m==\u001b[0m \u001b[1;34m\"nltk\"\u001b[0m\u001b[1;33m:\u001b[0m\u001b[1;33m\u001b[0m\u001b[1;33m\u001b[0m\u001b[0m\n\u001b[1;32m--> 877\u001b[1;33m         \u001b[1;32mreturn\u001b[0m \u001b[0mfind\u001b[0m\u001b[1;33m(\u001b[0m\u001b[0mpath_\u001b[0m\u001b[1;33m,\u001b[0m \u001b[0mpath\u001b[0m \u001b[1;33m+\u001b[0m \u001b[1;33m[\u001b[0m\u001b[1;34m\"\"\u001b[0m\u001b[1;33m]\u001b[0m\u001b[1;33m)\u001b[0m\u001b[1;33m.\u001b[0m\u001b[0mopen\u001b[0m\u001b[1;33m(\u001b[0m\u001b[1;33m)\u001b[0m\u001b[1;33m\u001b[0m\u001b[1;33m\u001b[0m\u001b[0m\n\u001b[0m\u001b[0;32m    878\u001b[0m     \u001b[1;32melif\u001b[0m \u001b[0mprotocol\u001b[0m\u001b[1;33m.\u001b[0m\u001b[0mlower\u001b[0m\u001b[1;33m(\u001b[0m\u001b[1;33m)\u001b[0m \u001b[1;33m==\u001b[0m \u001b[1;34m\"file\"\u001b[0m\u001b[1;33m:\u001b[0m\u001b[1;33m\u001b[0m\u001b[1;33m\u001b[0m\u001b[0m\n\u001b[0;32m    879\u001b[0m         \u001b[1;31m# urllib might not use mode='rb', so handle this one ourselves:\u001b[0m\u001b[1;33m\u001b[0m\u001b[1;33m\u001b[0m\u001b[1;33m\u001b[0m\u001b[0m\n",
      "\u001b[1;32m~\\anaconda3\\envs\\learn-env\\lib\\site-packages\\nltk\\data.py\u001b[0m in \u001b[0;36mfind\u001b[1;34m(resource_name, paths)\u001b[0m\n\u001b[0;32m    583\u001b[0m     \u001b[0msep\u001b[0m \u001b[1;33m=\u001b[0m \u001b[1;34m\"*\"\u001b[0m \u001b[1;33m*\u001b[0m \u001b[1;36m70\u001b[0m\u001b[1;33m\u001b[0m\u001b[1;33m\u001b[0m\u001b[0m\n\u001b[0;32m    584\u001b[0m     \u001b[0mresource_not_found\u001b[0m \u001b[1;33m=\u001b[0m \u001b[1;34m\"\\n%s\\n%s\\n%s\\n\"\u001b[0m \u001b[1;33m%\u001b[0m \u001b[1;33m(\u001b[0m\u001b[0msep\u001b[0m\u001b[1;33m,\u001b[0m \u001b[0mmsg\u001b[0m\u001b[1;33m,\u001b[0m \u001b[0msep\u001b[0m\u001b[1;33m)\u001b[0m\u001b[1;33m\u001b[0m\u001b[1;33m\u001b[0m\u001b[0m\n\u001b[1;32m--> 585\u001b[1;33m     \u001b[1;32mraise\u001b[0m \u001b[0mLookupError\u001b[0m\u001b[1;33m(\u001b[0m\u001b[0mresource_not_found\u001b[0m\u001b[1;33m)\u001b[0m\u001b[1;33m\u001b[0m\u001b[1;33m\u001b[0m\u001b[0m\n\u001b[0m\u001b[0;32m    586\u001b[0m \u001b[1;33m\u001b[0m\u001b[0m\n\u001b[0;32m    587\u001b[0m \u001b[1;33m\u001b[0m\u001b[0m\n",
      "\u001b[1;31mLookupError\u001b[0m: \n**********************************************************************\n  Resource \u001b[93mpunkt\u001b[0m not found.\n  Please use the NLTK Downloader to obtain the resource:\n\n  \u001b[31m>>> import nltk\n  >>> nltk.download('punkt')\n  \u001b[0m\n  For more information see: https://www.nltk.org/data.html\n\n  Attempted to load \u001b[93mtokenizers/punkt/english.pickle\u001b[0m\n\n  Searched in:\n    - 'C:\\\\Users\\\\Gamer/nltk_data'\n    - 'C:\\\\Users\\\\Gamer\\\\anaconda3\\\\envs\\\\learn-env\\\\nltk_data'\n    - 'C:\\\\Users\\\\Gamer\\\\anaconda3\\\\envs\\\\learn-env\\\\share\\\\nltk_data'\n    - 'C:\\\\Users\\\\Gamer\\\\anaconda3\\\\envs\\\\learn-env\\\\lib\\\\nltk_data'\n    - 'C:\\\\Users\\\\Gamer\\\\AppData\\\\Roaming\\\\nltk_data'\n    - 'C:\\\\nltk_data'\n    - 'D:\\\\nltk_data'\n    - 'E:\\\\nltk_data'\n    - ''\n**********************************************************************\n"
     ]
    }
   ],
   "source": [
    "# Run this cell without changes\n",
    "from nltk.tokenize import sent_tokenize\n",
    "\n",
    "sent_tokenize(X_train.iloc[100][\"text\"])"
   ]
  },
  {
   "cell_type": "markdown",
   "metadata": {},
   "source": [
    "We can just take the length of this list to find the number of sentences:"
   ]
  },
  {
   "cell_type": "code",
   "execution_count": 43,
   "metadata": {},
   "outputs": [
    {
     "ename": "LookupError",
     "evalue": "\n**********************************************************************\n  Resource \u001b[93mpunkt\u001b[0m not found.\n  Please use the NLTK Downloader to obtain the resource:\n\n  \u001b[31m>>> import nltk\n  >>> nltk.download('punkt')\n  \u001b[0m\n  For more information see: https://www.nltk.org/data.html\n\n  Attempted to load \u001b[93mtokenizers/punkt/english.pickle\u001b[0m\n\n  Searched in:\n    - 'C:\\\\Users\\\\Gamer/nltk_data'\n    - 'C:\\\\Users\\\\Gamer\\\\anaconda3\\\\envs\\\\learn-env\\\\nltk_data'\n    - 'C:\\\\Users\\\\Gamer\\\\anaconda3\\\\envs\\\\learn-env\\\\share\\\\nltk_data'\n    - 'C:\\\\Users\\\\Gamer\\\\anaconda3\\\\envs\\\\learn-env\\\\lib\\\\nltk_data'\n    - 'C:\\\\Users\\\\Gamer\\\\AppData\\\\Roaming\\\\nltk_data'\n    - 'C:\\\\nltk_data'\n    - 'D:\\\\nltk_data'\n    - 'E:\\\\nltk_data'\n    - ''\n**********************************************************************\n",
     "output_type": "error",
     "traceback": [
      "\u001b[1;31m---------------------------------------------------------------------------\u001b[0m",
      "\u001b[1;31mLookupError\u001b[0m                               Traceback (most recent call last)",
      "\u001b[1;32m<ipython-input-43-627487ab4219>\u001b[0m in \u001b[0;36m<module>\u001b[1;34m\u001b[0m\n\u001b[0;32m      1\u001b[0m \u001b[1;31m# Run this cell without changes\u001b[0m\u001b[1;33m\u001b[0m\u001b[1;33m\u001b[0m\u001b[1;33m\u001b[0m\u001b[0m\n\u001b[1;32m----> 2\u001b[1;33m \u001b[0mlen\u001b[0m\u001b[1;33m(\u001b[0m\u001b[0msent_tokenize\u001b[0m\u001b[1;33m(\u001b[0m\u001b[0mX_train\u001b[0m\u001b[1;33m.\u001b[0m\u001b[0miloc\u001b[0m\u001b[1;33m[\u001b[0m\u001b[1;36m100\u001b[0m\u001b[1;33m]\u001b[0m\u001b[1;33m[\u001b[0m\u001b[1;34m\"text\"\u001b[0m\u001b[1;33m]\u001b[0m\u001b[1;33m)\u001b[0m\u001b[1;33m)\u001b[0m\u001b[1;33m\u001b[0m\u001b[1;33m\u001b[0m\u001b[0m\n\u001b[0m",
      "\u001b[1;32m~\\anaconda3\\envs\\learn-env\\lib\\site-packages\\nltk\\tokenize\\__init__.py\u001b[0m in \u001b[0;36msent_tokenize\u001b[1;34m(text, language)\u001b[0m\n\u001b[0;32m    104\u001b[0m     \u001b[1;33m:\u001b[0m\u001b[0mparam\u001b[0m \u001b[0mlanguage\u001b[0m\u001b[1;33m:\u001b[0m \u001b[0mthe\u001b[0m \u001b[0mmodel\u001b[0m \u001b[0mname\u001b[0m \u001b[1;32min\u001b[0m \u001b[0mthe\u001b[0m \u001b[0mPunkt\u001b[0m \u001b[0mcorpus\u001b[0m\u001b[1;33m\u001b[0m\u001b[1;33m\u001b[0m\u001b[0m\n\u001b[0;32m    105\u001b[0m     \"\"\"\n\u001b[1;32m--> 106\u001b[1;33m     \u001b[0mtokenizer\u001b[0m \u001b[1;33m=\u001b[0m \u001b[0mload\u001b[0m\u001b[1;33m(\u001b[0m\u001b[1;34m\"tokenizers/punkt/{0}.pickle\"\u001b[0m\u001b[1;33m.\u001b[0m\u001b[0mformat\u001b[0m\u001b[1;33m(\u001b[0m\u001b[0mlanguage\u001b[0m\u001b[1;33m)\u001b[0m\u001b[1;33m)\u001b[0m\u001b[1;33m\u001b[0m\u001b[1;33m\u001b[0m\u001b[0m\n\u001b[0m\u001b[0;32m    107\u001b[0m     \u001b[1;32mreturn\u001b[0m \u001b[0mtokenizer\u001b[0m\u001b[1;33m.\u001b[0m\u001b[0mtokenize\u001b[0m\u001b[1;33m(\u001b[0m\u001b[0mtext\u001b[0m\u001b[1;33m)\u001b[0m\u001b[1;33m\u001b[0m\u001b[1;33m\u001b[0m\u001b[0m\n\u001b[0;32m    108\u001b[0m \u001b[1;33m\u001b[0m\u001b[0m\n",
      "\u001b[1;32m~\\anaconda3\\envs\\learn-env\\lib\\site-packages\\nltk\\data.py\u001b[0m in \u001b[0;36mload\u001b[1;34m(resource_url, format, cache, verbose, logic_parser, fstruct_reader, encoding)\u001b[0m\n\u001b[0;32m    750\u001b[0m \u001b[1;33m\u001b[0m\u001b[0m\n\u001b[0;32m    751\u001b[0m     \u001b[1;31m# Load the resource.\u001b[0m\u001b[1;33m\u001b[0m\u001b[1;33m\u001b[0m\u001b[1;33m\u001b[0m\u001b[0m\n\u001b[1;32m--> 752\u001b[1;33m     \u001b[0mopened_resource\u001b[0m \u001b[1;33m=\u001b[0m \u001b[0m_open\u001b[0m\u001b[1;33m(\u001b[0m\u001b[0mresource_url\u001b[0m\u001b[1;33m)\u001b[0m\u001b[1;33m\u001b[0m\u001b[1;33m\u001b[0m\u001b[0m\n\u001b[0m\u001b[0;32m    753\u001b[0m \u001b[1;33m\u001b[0m\u001b[0m\n\u001b[0;32m    754\u001b[0m     \u001b[1;32mif\u001b[0m \u001b[0mformat\u001b[0m \u001b[1;33m==\u001b[0m \u001b[1;34m\"raw\"\u001b[0m\u001b[1;33m:\u001b[0m\u001b[1;33m\u001b[0m\u001b[1;33m\u001b[0m\u001b[0m\n",
      "\u001b[1;32m~\\anaconda3\\envs\\learn-env\\lib\\site-packages\\nltk\\data.py\u001b[0m in \u001b[0;36m_open\u001b[1;34m(resource_url)\u001b[0m\n\u001b[0;32m    875\u001b[0m \u001b[1;33m\u001b[0m\u001b[0m\n\u001b[0;32m    876\u001b[0m     \u001b[1;32mif\u001b[0m \u001b[0mprotocol\u001b[0m \u001b[1;32mis\u001b[0m \u001b[1;32mNone\u001b[0m \u001b[1;32mor\u001b[0m \u001b[0mprotocol\u001b[0m\u001b[1;33m.\u001b[0m\u001b[0mlower\u001b[0m\u001b[1;33m(\u001b[0m\u001b[1;33m)\u001b[0m \u001b[1;33m==\u001b[0m \u001b[1;34m\"nltk\"\u001b[0m\u001b[1;33m:\u001b[0m\u001b[1;33m\u001b[0m\u001b[1;33m\u001b[0m\u001b[0m\n\u001b[1;32m--> 877\u001b[1;33m         \u001b[1;32mreturn\u001b[0m \u001b[0mfind\u001b[0m\u001b[1;33m(\u001b[0m\u001b[0mpath_\u001b[0m\u001b[1;33m,\u001b[0m \u001b[0mpath\u001b[0m \u001b[1;33m+\u001b[0m \u001b[1;33m[\u001b[0m\u001b[1;34m\"\"\u001b[0m\u001b[1;33m]\u001b[0m\u001b[1;33m)\u001b[0m\u001b[1;33m.\u001b[0m\u001b[0mopen\u001b[0m\u001b[1;33m(\u001b[0m\u001b[1;33m)\u001b[0m\u001b[1;33m\u001b[0m\u001b[1;33m\u001b[0m\u001b[0m\n\u001b[0m\u001b[0;32m    878\u001b[0m     \u001b[1;32melif\u001b[0m \u001b[0mprotocol\u001b[0m\u001b[1;33m.\u001b[0m\u001b[0mlower\u001b[0m\u001b[1;33m(\u001b[0m\u001b[1;33m)\u001b[0m \u001b[1;33m==\u001b[0m \u001b[1;34m\"file\"\u001b[0m\u001b[1;33m:\u001b[0m\u001b[1;33m\u001b[0m\u001b[1;33m\u001b[0m\u001b[0m\n\u001b[0;32m    879\u001b[0m         \u001b[1;31m# urllib might not use mode='rb', so handle this one ourselves:\u001b[0m\u001b[1;33m\u001b[0m\u001b[1;33m\u001b[0m\u001b[1;33m\u001b[0m\u001b[0m\n",
      "\u001b[1;32m~\\anaconda3\\envs\\learn-env\\lib\\site-packages\\nltk\\data.py\u001b[0m in \u001b[0;36mfind\u001b[1;34m(resource_name, paths)\u001b[0m\n\u001b[0;32m    583\u001b[0m     \u001b[0msep\u001b[0m \u001b[1;33m=\u001b[0m \u001b[1;34m\"*\"\u001b[0m \u001b[1;33m*\u001b[0m \u001b[1;36m70\u001b[0m\u001b[1;33m\u001b[0m\u001b[1;33m\u001b[0m\u001b[0m\n\u001b[0;32m    584\u001b[0m     \u001b[0mresource_not_found\u001b[0m \u001b[1;33m=\u001b[0m \u001b[1;34m\"\\n%s\\n%s\\n%s\\n\"\u001b[0m \u001b[1;33m%\u001b[0m \u001b[1;33m(\u001b[0m\u001b[0msep\u001b[0m\u001b[1;33m,\u001b[0m \u001b[0mmsg\u001b[0m\u001b[1;33m,\u001b[0m \u001b[0msep\u001b[0m\u001b[1;33m)\u001b[0m\u001b[1;33m\u001b[0m\u001b[1;33m\u001b[0m\u001b[0m\n\u001b[1;32m--> 585\u001b[1;33m     \u001b[1;32mraise\u001b[0m \u001b[0mLookupError\u001b[0m\u001b[1;33m(\u001b[0m\u001b[0mresource_not_found\u001b[0m\u001b[1;33m)\u001b[0m\u001b[1;33m\u001b[0m\u001b[1;33m\u001b[0m\u001b[0m\n\u001b[0m\u001b[0;32m    586\u001b[0m \u001b[1;33m\u001b[0m\u001b[0m\n\u001b[0;32m    587\u001b[0m \u001b[1;33m\u001b[0m\u001b[0m\n",
      "\u001b[1;31mLookupError\u001b[0m: \n**********************************************************************\n  Resource \u001b[93mpunkt\u001b[0m not found.\n  Please use the NLTK Downloader to obtain the resource:\n\n  \u001b[31m>>> import nltk\n  >>> nltk.download('punkt')\n  \u001b[0m\n  For more information see: https://www.nltk.org/data.html\n\n  Attempted to load \u001b[93mtokenizers/punkt/english.pickle\u001b[0m\n\n  Searched in:\n    - 'C:\\\\Users\\\\Gamer/nltk_data'\n    - 'C:\\\\Users\\\\Gamer\\\\anaconda3\\\\envs\\\\learn-env\\\\nltk_data'\n    - 'C:\\\\Users\\\\Gamer\\\\anaconda3\\\\envs\\\\learn-env\\\\share\\\\nltk_data'\n    - 'C:\\\\Users\\\\Gamer\\\\anaconda3\\\\envs\\\\learn-env\\\\lib\\\\nltk_data'\n    - 'C:\\\\Users\\\\Gamer\\\\AppData\\\\Roaming\\\\nltk_data'\n    - 'C:\\\\nltk_data'\n    - 'D:\\\\nltk_data'\n    - 'E:\\\\nltk_data'\n    - ''\n**********************************************************************\n"
     ]
    }
   ],
   "source": [
    "# Run this cell without changes\n",
    "len(sent_tokenize(X_train.iloc[100][\"text\"]))"
   ]
  },
  {
   "cell_type": "markdown",
   "metadata": {},
   "source": [
    "The following code adds a feature `num_sentences` to `X_train`:"
   ]
  },
  {
   "cell_type": "code",
   "execution_count": 46,
   "metadata": {},
   "outputs": [
    {
     "ename": "LookupError",
     "evalue": "\n**********************************************************************\n  Resource \u001b[93mpunkt\u001b[0m not found.\n  Please use the NLTK Downloader to obtain the resource:\n\n  \u001b[31m>>> import nltk\n  >>> nltk.download('punkt')\n  \u001b[0m\n  For more information see: https://www.nltk.org/data.html\n\n  Attempted to load \u001b[93mtokenizers/punkt/english.pickle\u001b[0m\n\n  Searched in:\n    - 'C:\\\\Users\\\\Gamer/nltk_data'\n    - 'C:\\\\Users\\\\Gamer\\\\anaconda3\\\\envs\\\\learn-env\\\\nltk_data'\n    - 'C:\\\\Users\\\\Gamer\\\\anaconda3\\\\envs\\\\learn-env\\\\share\\\\nltk_data'\n    - 'C:\\\\Users\\\\Gamer\\\\anaconda3\\\\envs\\\\learn-env\\\\lib\\\\nltk_data'\n    - 'C:\\\\Users\\\\Gamer\\\\AppData\\\\Roaming\\\\nltk_data'\n    - 'C:\\\\nltk_data'\n    - 'D:\\\\nltk_data'\n    - 'E:\\\\nltk_data'\n    - ''\n**********************************************************************\n",
     "output_type": "error",
     "traceback": [
      "\u001b[1;31m---------------------------------------------------------------------------\u001b[0m",
      "\u001b[1;31mLookupError\u001b[0m                               Traceback (most recent call last)",
      "\u001b[1;32m<ipython-input-46-7d0eab478843>\u001b[0m in \u001b[0;36m<module>\u001b[1;34m\u001b[0m\n\u001b[0;32m      1\u001b[0m \u001b[1;31m# Run this cell without changes\u001b[0m\u001b[1;33m\u001b[0m\u001b[1;33m\u001b[0m\u001b[1;33m\u001b[0m\u001b[0m\n\u001b[1;32m----> 2\u001b[1;33m \u001b[0mX_train\u001b[0m\u001b[1;33m[\u001b[0m\u001b[1;34m\"num_sentences\"\u001b[0m\u001b[1;33m]\u001b[0m \u001b[1;33m=\u001b[0m \u001b[0mX_train\u001b[0m\u001b[1;33m[\u001b[0m\u001b[1;34m\"text\"\u001b[0m\u001b[1;33m]\u001b[0m\u001b[1;33m.\u001b[0m\u001b[0mapply\u001b[0m\u001b[1;33m(\u001b[0m\u001b[1;32mlambda\u001b[0m \u001b[0mx\u001b[0m\u001b[1;33m:\u001b[0m \u001b[0mlen\u001b[0m\u001b[1;33m(\u001b[0m\u001b[0msent_tokenize\u001b[0m\u001b[1;33m(\u001b[0m\u001b[0mx\u001b[0m\u001b[1;33m)\u001b[0m\u001b[1;33m)\u001b[0m\u001b[1;33m)\u001b[0m\u001b[1;33m\u001b[0m\u001b[1;33m\u001b[0m\u001b[0m\n\u001b[0m",
      "\u001b[1;32m~\\anaconda3\\envs\\learn-env\\lib\\site-packages\\pandas\\core\\series.py\u001b[0m in \u001b[0;36mapply\u001b[1;34m(self, func, convert_dtype, args, **kwargs)\u001b[0m\n\u001b[0;32m   4431\u001b[0m         \u001b[0mdtype\u001b[0m\u001b[1;33m:\u001b[0m \u001b[0mfloat64\u001b[0m\u001b[1;33m\u001b[0m\u001b[1;33m\u001b[0m\u001b[0m\n\u001b[0;32m   4432\u001b[0m         \"\"\"\n\u001b[1;32m-> 4433\u001b[1;33m         \u001b[1;32mreturn\u001b[0m \u001b[0mSeriesApply\u001b[0m\u001b[1;33m(\u001b[0m\u001b[0mself\u001b[0m\u001b[1;33m,\u001b[0m \u001b[0mfunc\u001b[0m\u001b[1;33m,\u001b[0m \u001b[0mconvert_dtype\u001b[0m\u001b[1;33m,\u001b[0m \u001b[0margs\u001b[0m\u001b[1;33m,\u001b[0m \u001b[0mkwargs\u001b[0m\u001b[1;33m)\u001b[0m\u001b[1;33m.\u001b[0m\u001b[0mapply\u001b[0m\u001b[1;33m(\u001b[0m\u001b[1;33m)\u001b[0m\u001b[1;33m\u001b[0m\u001b[1;33m\u001b[0m\u001b[0m\n\u001b[0m\u001b[0;32m   4434\u001b[0m \u001b[1;33m\u001b[0m\u001b[0m\n\u001b[0;32m   4435\u001b[0m     def _reduce(\n",
      "\u001b[1;32m~\\anaconda3\\envs\\learn-env\\lib\\site-packages\\pandas\\core\\apply.py\u001b[0m in \u001b[0;36mapply\u001b[1;34m(self)\u001b[0m\n\u001b[0;32m   1086\u001b[0m             \u001b[1;32mreturn\u001b[0m \u001b[0mself\u001b[0m\u001b[1;33m.\u001b[0m\u001b[0mapply_str\u001b[0m\u001b[1;33m(\u001b[0m\u001b[1;33m)\u001b[0m\u001b[1;33m\u001b[0m\u001b[1;33m\u001b[0m\u001b[0m\n\u001b[0;32m   1087\u001b[0m \u001b[1;33m\u001b[0m\u001b[0m\n\u001b[1;32m-> 1088\u001b[1;33m         \u001b[1;32mreturn\u001b[0m \u001b[0mself\u001b[0m\u001b[1;33m.\u001b[0m\u001b[0mapply_standard\u001b[0m\u001b[1;33m(\u001b[0m\u001b[1;33m)\u001b[0m\u001b[1;33m\u001b[0m\u001b[1;33m\u001b[0m\u001b[0m\n\u001b[0m\u001b[0;32m   1089\u001b[0m \u001b[1;33m\u001b[0m\u001b[0m\n\u001b[0;32m   1090\u001b[0m     \u001b[1;32mdef\u001b[0m \u001b[0magg\u001b[0m\u001b[1;33m(\u001b[0m\u001b[0mself\u001b[0m\u001b[1;33m)\u001b[0m\u001b[1;33m:\u001b[0m\u001b[1;33m\u001b[0m\u001b[1;33m\u001b[0m\u001b[0m\n",
      "\u001b[1;32m~\\anaconda3\\envs\\learn-env\\lib\\site-packages\\pandas\\core\\apply.py\u001b[0m in \u001b[0;36mapply_standard\u001b[1;34m(self)\u001b[0m\n\u001b[0;32m   1141\u001b[0m                 \u001b[1;31m# List[Union[Callable[..., Any], str]]]]]\"; expected\u001b[0m\u001b[1;33m\u001b[0m\u001b[1;33m\u001b[0m\u001b[1;33m\u001b[0m\u001b[0m\n\u001b[0;32m   1142\u001b[0m                 \u001b[1;31m# \"Callable[[Any], Any]\"\u001b[0m\u001b[1;33m\u001b[0m\u001b[1;33m\u001b[0m\u001b[1;33m\u001b[0m\u001b[0m\n\u001b[1;32m-> 1143\u001b[1;33m                 mapped = lib.map_infer(\n\u001b[0m\u001b[0;32m   1144\u001b[0m                     \u001b[0mvalues\u001b[0m\u001b[1;33m,\u001b[0m\u001b[1;33m\u001b[0m\u001b[1;33m\u001b[0m\u001b[0m\n\u001b[0;32m   1145\u001b[0m                     \u001b[0mf\u001b[0m\u001b[1;33m,\u001b[0m  \u001b[1;31m# type: ignore[arg-type]\u001b[0m\u001b[1;33m\u001b[0m\u001b[1;33m\u001b[0m\u001b[0m\n",
      "\u001b[1;32m~\\anaconda3\\envs\\learn-env\\lib\\site-packages\\pandas\\_libs\\lib.pyx\u001b[0m in \u001b[0;36mpandas._libs.lib.map_infer\u001b[1;34m()\u001b[0m\n",
      "\u001b[1;32m<ipython-input-46-7d0eab478843>\u001b[0m in \u001b[0;36m<lambda>\u001b[1;34m(x)\u001b[0m\n\u001b[0;32m      1\u001b[0m \u001b[1;31m# Run this cell without changes\u001b[0m\u001b[1;33m\u001b[0m\u001b[1;33m\u001b[0m\u001b[1;33m\u001b[0m\u001b[0m\n\u001b[1;32m----> 2\u001b[1;33m \u001b[0mX_train\u001b[0m\u001b[1;33m[\u001b[0m\u001b[1;34m\"num_sentences\"\u001b[0m\u001b[1;33m]\u001b[0m \u001b[1;33m=\u001b[0m \u001b[0mX_train\u001b[0m\u001b[1;33m[\u001b[0m\u001b[1;34m\"text\"\u001b[0m\u001b[1;33m]\u001b[0m\u001b[1;33m.\u001b[0m\u001b[0mapply\u001b[0m\u001b[1;33m(\u001b[0m\u001b[1;32mlambda\u001b[0m \u001b[0mx\u001b[0m\u001b[1;33m:\u001b[0m \u001b[0mlen\u001b[0m\u001b[1;33m(\u001b[0m\u001b[0msent_tokenize\u001b[0m\u001b[1;33m(\u001b[0m\u001b[0mx\u001b[0m\u001b[1;33m)\u001b[0m\u001b[1;33m)\u001b[0m\u001b[1;33m)\u001b[0m\u001b[1;33m\u001b[0m\u001b[1;33m\u001b[0m\u001b[0m\n\u001b[0m",
      "\u001b[1;32m~\\anaconda3\\envs\\learn-env\\lib\\site-packages\\nltk\\tokenize\\__init__.py\u001b[0m in \u001b[0;36msent_tokenize\u001b[1;34m(text, language)\u001b[0m\n\u001b[0;32m    104\u001b[0m     \u001b[1;33m:\u001b[0m\u001b[0mparam\u001b[0m \u001b[0mlanguage\u001b[0m\u001b[1;33m:\u001b[0m \u001b[0mthe\u001b[0m \u001b[0mmodel\u001b[0m \u001b[0mname\u001b[0m \u001b[1;32min\u001b[0m \u001b[0mthe\u001b[0m \u001b[0mPunkt\u001b[0m \u001b[0mcorpus\u001b[0m\u001b[1;33m\u001b[0m\u001b[1;33m\u001b[0m\u001b[0m\n\u001b[0;32m    105\u001b[0m     \"\"\"\n\u001b[1;32m--> 106\u001b[1;33m     \u001b[0mtokenizer\u001b[0m \u001b[1;33m=\u001b[0m \u001b[0mload\u001b[0m\u001b[1;33m(\u001b[0m\u001b[1;34m\"tokenizers/punkt/{0}.pickle\"\u001b[0m\u001b[1;33m.\u001b[0m\u001b[0mformat\u001b[0m\u001b[1;33m(\u001b[0m\u001b[0mlanguage\u001b[0m\u001b[1;33m)\u001b[0m\u001b[1;33m)\u001b[0m\u001b[1;33m\u001b[0m\u001b[1;33m\u001b[0m\u001b[0m\n\u001b[0m\u001b[0;32m    107\u001b[0m     \u001b[1;32mreturn\u001b[0m \u001b[0mtokenizer\u001b[0m\u001b[1;33m.\u001b[0m\u001b[0mtokenize\u001b[0m\u001b[1;33m(\u001b[0m\u001b[0mtext\u001b[0m\u001b[1;33m)\u001b[0m\u001b[1;33m\u001b[0m\u001b[1;33m\u001b[0m\u001b[0m\n\u001b[0;32m    108\u001b[0m \u001b[1;33m\u001b[0m\u001b[0m\n",
      "\u001b[1;32m~\\anaconda3\\envs\\learn-env\\lib\\site-packages\\nltk\\data.py\u001b[0m in \u001b[0;36mload\u001b[1;34m(resource_url, format, cache, verbose, logic_parser, fstruct_reader, encoding)\u001b[0m\n\u001b[0;32m    750\u001b[0m \u001b[1;33m\u001b[0m\u001b[0m\n\u001b[0;32m    751\u001b[0m     \u001b[1;31m# Load the resource.\u001b[0m\u001b[1;33m\u001b[0m\u001b[1;33m\u001b[0m\u001b[1;33m\u001b[0m\u001b[0m\n\u001b[1;32m--> 752\u001b[1;33m     \u001b[0mopened_resource\u001b[0m \u001b[1;33m=\u001b[0m \u001b[0m_open\u001b[0m\u001b[1;33m(\u001b[0m\u001b[0mresource_url\u001b[0m\u001b[1;33m)\u001b[0m\u001b[1;33m\u001b[0m\u001b[1;33m\u001b[0m\u001b[0m\n\u001b[0m\u001b[0;32m    753\u001b[0m \u001b[1;33m\u001b[0m\u001b[0m\n\u001b[0;32m    754\u001b[0m     \u001b[1;32mif\u001b[0m \u001b[0mformat\u001b[0m \u001b[1;33m==\u001b[0m \u001b[1;34m\"raw\"\u001b[0m\u001b[1;33m:\u001b[0m\u001b[1;33m\u001b[0m\u001b[1;33m\u001b[0m\u001b[0m\n",
      "\u001b[1;32m~\\anaconda3\\envs\\learn-env\\lib\\site-packages\\nltk\\data.py\u001b[0m in \u001b[0;36m_open\u001b[1;34m(resource_url)\u001b[0m\n\u001b[0;32m    875\u001b[0m \u001b[1;33m\u001b[0m\u001b[0m\n\u001b[0;32m    876\u001b[0m     \u001b[1;32mif\u001b[0m \u001b[0mprotocol\u001b[0m \u001b[1;32mis\u001b[0m \u001b[1;32mNone\u001b[0m \u001b[1;32mor\u001b[0m \u001b[0mprotocol\u001b[0m\u001b[1;33m.\u001b[0m\u001b[0mlower\u001b[0m\u001b[1;33m(\u001b[0m\u001b[1;33m)\u001b[0m \u001b[1;33m==\u001b[0m \u001b[1;34m\"nltk\"\u001b[0m\u001b[1;33m:\u001b[0m\u001b[1;33m\u001b[0m\u001b[1;33m\u001b[0m\u001b[0m\n\u001b[1;32m--> 877\u001b[1;33m         \u001b[1;32mreturn\u001b[0m \u001b[0mfind\u001b[0m\u001b[1;33m(\u001b[0m\u001b[0mpath_\u001b[0m\u001b[1;33m,\u001b[0m \u001b[0mpath\u001b[0m \u001b[1;33m+\u001b[0m \u001b[1;33m[\u001b[0m\u001b[1;34m\"\"\u001b[0m\u001b[1;33m]\u001b[0m\u001b[1;33m)\u001b[0m\u001b[1;33m.\u001b[0m\u001b[0mopen\u001b[0m\u001b[1;33m(\u001b[0m\u001b[1;33m)\u001b[0m\u001b[1;33m\u001b[0m\u001b[1;33m\u001b[0m\u001b[0m\n\u001b[0m\u001b[0;32m    878\u001b[0m     \u001b[1;32melif\u001b[0m \u001b[0mprotocol\u001b[0m\u001b[1;33m.\u001b[0m\u001b[0mlower\u001b[0m\u001b[1;33m(\u001b[0m\u001b[1;33m)\u001b[0m \u001b[1;33m==\u001b[0m \u001b[1;34m\"file\"\u001b[0m\u001b[1;33m:\u001b[0m\u001b[1;33m\u001b[0m\u001b[1;33m\u001b[0m\u001b[0m\n\u001b[0;32m    879\u001b[0m         \u001b[1;31m# urllib might not use mode='rb', so handle this one ourselves:\u001b[0m\u001b[1;33m\u001b[0m\u001b[1;33m\u001b[0m\u001b[1;33m\u001b[0m\u001b[0m\n",
      "\u001b[1;32m~\\anaconda3\\envs\\learn-env\\lib\\site-packages\\nltk\\data.py\u001b[0m in \u001b[0;36mfind\u001b[1;34m(resource_name, paths)\u001b[0m\n\u001b[0;32m    583\u001b[0m     \u001b[0msep\u001b[0m \u001b[1;33m=\u001b[0m \u001b[1;34m\"*\"\u001b[0m \u001b[1;33m*\u001b[0m \u001b[1;36m70\u001b[0m\u001b[1;33m\u001b[0m\u001b[1;33m\u001b[0m\u001b[0m\n\u001b[0;32m    584\u001b[0m     \u001b[0mresource_not_found\u001b[0m \u001b[1;33m=\u001b[0m \u001b[1;34m\"\\n%s\\n%s\\n%s\\n\"\u001b[0m \u001b[1;33m%\u001b[0m \u001b[1;33m(\u001b[0m\u001b[0msep\u001b[0m\u001b[1;33m,\u001b[0m \u001b[0mmsg\u001b[0m\u001b[1;33m,\u001b[0m \u001b[0msep\u001b[0m\u001b[1;33m)\u001b[0m\u001b[1;33m\u001b[0m\u001b[1;33m\u001b[0m\u001b[0m\n\u001b[1;32m--> 585\u001b[1;33m     \u001b[1;32mraise\u001b[0m \u001b[0mLookupError\u001b[0m\u001b[1;33m(\u001b[0m\u001b[0mresource_not_found\u001b[0m\u001b[1;33m)\u001b[0m\u001b[1;33m\u001b[0m\u001b[1;33m\u001b[0m\u001b[0m\n\u001b[0m\u001b[0;32m    586\u001b[0m \u001b[1;33m\u001b[0m\u001b[0m\n\u001b[0;32m    587\u001b[0m \u001b[1;33m\u001b[0m\u001b[0m\n",
      "\u001b[1;31mLookupError\u001b[0m: \n**********************************************************************\n  Resource \u001b[93mpunkt\u001b[0m not found.\n  Please use the NLTK Downloader to obtain the resource:\n\n  \u001b[31m>>> import nltk\n  >>> nltk.download('punkt')\n  \u001b[0m\n  For more information see: https://www.nltk.org/data.html\n\n  Attempted to load \u001b[93mtokenizers/punkt/english.pickle\u001b[0m\n\n  Searched in:\n    - 'C:\\\\Users\\\\Gamer/nltk_data'\n    - 'C:\\\\Users\\\\Gamer\\\\anaconda3\\\\envs\\\\learn-env\\\\nltk_data'\n    - 'C:\\\\Users\\\\Gamer\\\\anaconda3\\\\envs\\\\learn-env\\\\share\\\\nltk_data'\n    - 'C:\\\\Users\\\\Gamer\\\\anaconda3\\\\envs\\\\learn-env\\\\lib\\\\nltk_data'\n    - 'C:\\\\Users\\\\Gamer\\\\AppData\\\\Roaming\\\\nltk_data'\n    - 'C:\\\\nltk_data'\n    - 'D:\\\\nltk_data'\n    - 'E:\\\\nltk_data'\n    - ''\n**********************************************************************\n"
     ]
    }
   ],
   "source": [
    "# Run this cell without changes\n",
    "X_train[\"num_sentences\"] = X_train[\"text\"].apply(lambda x: len(sent_tokenize(x)))"
   ]
  },
  {
   "cell_type": "code",
   "execution_count": 47,
   "metadata": {},
   "outputs": [
    {
     "ename": "KeyError",
     "evalue": "'num_sentences'",
     "output_type": "error",
     "traceback": [
      "\u001b[1;31m---------------------------------------------------------------------------\u001b[0m",
      "\u001b[1;31mKeyError\u001b[0m                                  Traceback (most recent call last)",
      "\u001b[1;32m~\\anaconda3\\envs\\learn-env\\lib\\site-packages\\pandas\\core\\indexes\\base.py\u001b[0m in \u001b[0;36mget_loc\u001b[1;34m(self, key, method, tolerance)\u001b[0m\n\u001b[0;32m   3628\u001b[0m             \u001b[1;32mtry\u001b[0m\u001b[1;33m:\u001b[0m\u001b[1;33m\u001b[0m\u001b[1;33m\u001b[0m\u001b[0m\n\u001b[1;32m-> 3629\u001b[1;33m                 \u001b[1;32mreturn\u001b[0m \u001b[0mself\u001b[0m\u001b[1;33m.\u001b[0m\u001b[0m_engine\u001b[0m\u001b[1;33m.\u001b[0m\u001b[0mget_loc\u001b[0m\u001b[1;33m(\u001b[0m\u001b[0mcasted_key\u001b[0m\u001b[1;33m)\u001b[0m\u001b[1;33m\u001b[0m\u001b[1;33m\u001b[0m\u001b[0m\n\u001b[0m\u001b[0;32m   3630\u001b[0m             \u001b[1;32mexcept\u001b[0m \u001b[0mKeyError\u001b[0m \u001b[1;32mas\u001b[0m \u001b[0merr\u001b[0m\u001b[1;33m:\u001b[0m\u001b[1;33m\u001b[0m\u001b[1;33m\u001b[0m\u001b[0m\n",
      "\u001b[1;32m~\\anaconda3\\envs\\learn-env\\lib\\site-packages\\pandas\\_libs\\index.pyx\u001b[0m in \u001b[0;36mpandas._libs.index.IndexEngine.get_loc\u001b[1;34m()\u001b[0m\n",
      "\u001b[1;32m~\\anaconda3\\envs\\learn-env\\lib\\site-packages\\pandas\\_libs\\index.pyx\u001b[0m in \u001b[0;36mpandas._libs.index.IndexEngine.get_loc\u001b[1;34m()\u001b[0m\n",
      "\u001b[1;32mpandas\\_libs\\hashtable_class_helper.pxi\u001b[0m in \u001b[0;36mpandas._libs.hashtable.PyObjectHashTable.get_item\u001b[1;34m()\u001b[0m\n",
      "\u001b[1;32mpandas\\_libs\\hashtable_class_helper.pxi\u001b[0m in \u001b[0;36mpandas._libs.hashtable.PyObjectHashTable.get_item\u001b[1;34m()\u001b[0m\n",
      "\u001b[1;31mKeyError\u001b[0m: 'num_sentences'",
      "\nThe above exception was the direct cause of the following exception:\n",
      "\u001b[1;31mKeyError\u001b[0m                                  Traceback (most recent call last)",
      "\u001b[1;32m<ipython-input-47-95109f48bbda>\u001b[0m in \u001b[0;36m<module>\u001b[1;34m\u001b[0m\n\u001b[0;32m      1\u001b[0m \u001b[1;31m# Run this cell without changes\u001b[0m\u001b[1;33m\u001b[0m\u001b[1;33m\u001b[0m\u001b[1;33m\u001b[0m\u001b[0m\n\u001b[0;32m      2\u001b[0m \u001b[0mfig\u001b[0m\u001b[1;33m,\u001b[0m \u001b[0maxes\u001b[0m \u001b[1;33m=\u001b[0m \u001b[0msetup_five_subplots\u001b[0m\u001b[1;33m(\u001b[0m\u001b[1;33m)\u001b[0m\u001b[1;33m\u001b[0m\u001b[1;33m\u001b[0m\u001b[0m\n\u001b[1;32m----> 3\u001b[1;33m \u001b[0mplot_distribution_of_column_by_category\u001b[0m\u001b[1;33m(\u001b[0m\u001b[1;34m\"num_sentences\"\u001b[0m\u001b[1;33m,\u001b[0m \u001b[0maxes\u001b[0m\u001b[1;33m,\u001b[0m \u001b[1;34m\"Numbers of Sentences for\"\u001b[0m\u001b[1;33m)\u001b[0m\u001b[1;33m\u001b[0m\u001b[1;33m\u001b[0m\u001b[0m\n\u001b[0m\u001b[0;32m      4\u001b[0m \u001b[0mfig\u001b[0m\u001b[1;33m.\u001b[0m\u001b[0msuptitle\u001b[0m\u001b[1;33m(\u001b[0m\u001b[1;34m\"Distributions of Sentence Counts by Category\"\u001b[0m\u001b[1;33m,\u001b[0m \u001b[0mfontsize\u001b[0m\u001b[1;33m=\u001b[0m\u001b[1;36m24\u001b[0m\u001b[1;33m)\u001b[0m\u001b[1;33m;\u001b[0m\u001b[1;33m\u001b[0m\u001b[1;33m\u001b[0m\u001b[0m\n",
      "\u001b[1;32m<ipython-input-23-4febab2717b5>\u001b[0m in \u001b[0;36mplot_distribution_of_column_by_category\u001b[1;34m(column, axes, title)\u001b[0m\n\u001b[0;32m     34\u001b[0m     \u001b[1;32mfor\u001b[0m \u001b[0mindex\u001b[0m\u001b[1;33m,\u001b[0m \u001b[0mcategory\u001b[0m \u001b[1;32min\u001b[0m \u001b[0menumerate\u001b[0m\u001b[1;33m(\u001b[0m\u001b[0mnewsgroups_train\u001b[0m\u001b[1;33m.\u001b[0m\u001b[0mtarget_names\u001b[0m\u001b[1;33m)\u001b[0m\u001b[1;33m:\u001b[0m\u001b[1;33m\u001b[0m\u001b[1;33m\u001b[0m\u001b[0m\n\u001b[0;32m     35\u001b[0m         \u001b[1;31m# Calculate frequency distribution for this subset\u001b[0m\u001b[1;33m\u001b[0m\u001b[1;33m\u001b[0m\u001b[1;33m\u001b[0m\u001b[0m\n\u001b[1;32m---> 36\u001b[1;33m         \u001b[0mall_words\u001b[0m \u001b[1;33m=\u001b[0m \u001b[0mX_train\u001b[0m\u001b[1;33m[\u001b[0m\u001b[0mX_train\u001b[0m\u001b[1;33m[\u001b[0m\u001b[1;34m\"label\"\u001b[0m\u001b[1;33m]\u001b[0m \u001b[1;33m==\u001b[0m \u001b[0mindex\u001b[0m\u001b[1;33m]\u001b[0m\u001b[1;33m[\u001b[0m\u001b[0mcolumn\u001b[0m\u001b[1;33m]\u001b[0m\u001b[1;33m.\u001b[0m\u001b[0mexplode\u001b[0m\u001b[1;33m(\u001b[0m\u001b[1;33m)\u001b[0m\u001b[1;33m\u001b[0m\u001b[1;33m\u001b[0m\u001b[0m\n\u001b[0m\u001b[0;32m     37\u001b[0m         \u001b[0mfreq_dist\u001b[0m \u001b[1;33m=\u001b[0m \u001b[0mFreqDist\u001b[0m\u001b[1;33m(\u001b[0m\u001b[0mall_words\u001b[0m\u001b[1;33m)\u001b[0m\u001b[1;33m\u001b[0m\u001b[1;33m\u001b[0m\u001b[0m\n\u001b[0;32m     38\u001b[0m         \u001b[0mtop_10\u001b[0m \u001b[1;33m=\u001b[0m \u001b[0mlist\u001b[0m\u001b[1;33m(\u001b[0m\u001b[0mzip\u001b[0m\u001b[1;33m(\u001b[0m\u001b[1;33m*\u001b[0m\u001b[0mfreq_dist\u001b[0m\u001b[1;33m.\u001b[0m\u001b[0mmost_common\u001b[0m\u001b[1;33m(\u001b[0m\u001b[1;36m10\u001b[0m\u001b[1;33m)\u001b[0m\u001b[1;33m)\u001b[0m\u001b[1;33m)\u001b[0m\u001b[1;33m\u001b[0m\u001b[1;33m\u001b[0m\u001b[0m\n",
      "\u001b[1;32m~\\anaconda3\\envs\\learn-env\\lib\\site-packages\\pandas\\core\\frame.py\u001b[0m in \u001b[0;36m__getitem__\u001b[1;34m(self, key)\u001b[0m\n\u001b[0;32m   3503\u001b[0m             \u001b[1;32mif\u001b[0m \u001b[0mself\u001b[0m\u001b[1;33m.\u001b[0m\u001b[0mcolumns\u001b[0m\u001b[1;33m.\u001b[0m\u001b[0mnlevels\u001b[0m \u001b[1;33m>\u001b[0m \u001b[1;36m1\u001b[0m\u001b[1;33m:\u001b[0m\u001b[1;33m\u001b[0m\u001b[1;33m\u001b[0m\u001b[0m\n\u001b[0;32m   3504\u001b[0m                 \u001b[1;32mreturn\u001b[0m \u001b[0mself\u001b[0m\u001b[1;33m.\u001b[0m\u001b[0m_getitem_multilevel\u001b[0m\u001b[1;33m(\u001b[0m\u001b[0mkey\u001b[0m\u001b[1;33m)\u001b[0m\u001b[1;33m\u001b[0m\u001b[1;33m\u001b[0m\u001b[0m\n\u001b[1;32m-> 3505\u001b[1;33m             \u001b[0mindexer\u001b[0m \u001b[1;33m=\u001b[0m \u001b[0mself\u001b[0m\u001b[1;33m.\u001b[0m\u001b[0mcolumns\u001b[0m\u001b[1;33m.\u001b[0m\u001b[0mget_loc\u001b[0m\u001b[1;33m(\u001b[0m\u001b[0mkey\u001b[0m\u001b[1;33m)\u001b[0m\u001b[1;33m\u001b[0m\u001b[1;33m\u001b[0m\u001b[0m\n\u001b[0m\u001b[0;32m   3506\u001b[0m             \u001b[1;32mif\u001b[0m \u001b[0mis_integer\u001b[0m\u001b[1;33m(\u001b[0m\u001b[0mindexer\u001b[0m\u001b[1;33m)\u001b[0m\u001b[1;33m:\u001b[0m\u001b[1;33m\u001b[0m\u001b[1;33m\u001b[0m\u001b[0m\n\u001b[0;32m   3507\u001b[0m                 \u001b[0mindexer\u001b[0m \u001b[1;33m=\u001b[0m \u001b[1;33m[\u001b[0m\u001b[0mindexer\u001b[0m\u001b[1;33m]\u001b[0m\u001b[1;33m\u001b[0m\u001b[1;33m\u001b[0m\u001b[0m\n",
      "\u001b[1;32m~\\anaconda3\\envs\\learn-env\\lib\\site-packages\\pandas\\core\\indexes\\base.py\u001b[0m in \u001b[0;36mget_loc\u001b[1;34m(self, key, method, tolerance)\u001b[0m\n\u001b[0;32m   3629\u001b[0m                 \u001b[1;32mreturn\u001b[0m \u001b[0mself\u001b[0m\u001b[1;33m.\u001b[0m\u001b[0m_engine\u001b[0m\u001b[1;33m.\u001b[0m\u001b[0mget_loc\u001b[0m\u001b[1;33m(\u001b[0m\u001b[0mcasted_key\u001b[0m\u001b[1;33m)\u001b[0m\u001b[1;33m\u001b[0m\u001b[1;33m\u001b[0m\u001b[0m\n\u001b[0;32m   3630\u001b[0m             \u001b[1;32mexcept\u001b[0m \u001b[0mKeyError\u001b[0m \u001b[1;32mas\u001b[0m \u001b[0merr\u001b[0m\u001b[1;33m:\u001b[0m\u001b[1;33m\u001b[0m\u001b[1;33m\u001b[0m\u001b[0m\n\u001b[1;32m-> 3631\u001b[1;33m                 \u001b[1;32mraise\u001b[0m \u001b[0mKeyError\u001b[0m\u001b[1;33m(\u001b[0m\u001b[0mkey\u001b[0m\u001b[1;33m)\u001b[0m \u001b[1;32mfrom\u001b[0m \u001b[0merr\u001b[0m\u001b[1;33m\u001b[0m\u001b[1;33m\u001b[0m\u001b[0m\n\u001b[0m\u001b[0;32m   3632\u001b[0m             \u001b[1;32mexcept\u001b[0m \u001b[0mTypeError\u001b[0m\u001b[1;33m:\u001b[0m\u001b[1;33m\u001b[0m\u001b[1;33m\u001b[0m\u001b[0m\n\u001b[0;32m   3633\u001b[0m                 \u001b[1;31m# If we have a listlike key, _check_indexing_error will raise\u001b[0m\u001b[1;33m\u001b[0m\u001b[1;33m\u001b[0m\u001b[1;33m\u001b[0m\u001b[0m\n",
      "\u001b[1;31mKeyError\u001b[0m: 'num_sentences'"
     ]
    },
    {
     "data": {
      "image/png": "[encoded data removed]",
      "text/plain": [
       "<Figure size 1080x648 with 5 Axes>"
      ]
     },
     "metadata": {
      "needs_background": "light"
     },
     "output_type": "display_data"
    }
   ],
   "source": [
    "# Run this cell without changes\n",
    "fig, axes = setup_five_subplots()\n",
    "plot_distribution_of_column_by_category(\"num_sentences\", axes, \"Numbers of Sentences for\")\n",
    "fig.suptitle(\"Distributions of Sentence Counts by Category\", fontsize=24);"
   ]
  },
  {
   "cell_type": "markdown",
   "metadata": {},
   "source": [
    "Does this seem like a useful feature? Maybe. The distributions differ a bit, but it's hard to know if our model will pick up on this information. Let's go ahead and keep it."
   ]
  },
  {
   "cell_type": "markdown",
   "metadata": {},
   "source": [
    "#### Contains a Price\n",
    "\n",
    "The idea here is particularly to be able to distinguish the `misc.forsale` category, but it might also help with identifying the others. Let's use RegEx to check if the text contains a price:"
   ]
  },
  {
   "cell_type": "code",
   "execution_count": null,
   "metadata": {},
   "outputs": [],
   "source": [
    "# Run this cell without changes\n",
    "\n",
    "# Define a price as a dollar sign followed by 1-3 numbers,\n",
    "# optional commas or decimals, 1-2 numbers after the decimal\n",
    "# (we're not too worried about accidentally matching malformed prices)\n",
    "price_query = r'\\$(?:\\d{1,3}[,.]?)+(?:\\\\d{1,2})?'\n",
    "\n",
    "X_train[\"contains_price\"] = X_train[\"text\"].str.contains(price_query)\n",
    "\n",
    "fig, axes = setup_five_subplots()\n",
    "plot_distribution_of_column_by_category(\"contains_price\", axes, \"Freqency of Posts Containing Prices for\")\n",
    "fig.suptitle(\"Distributions of Posts Containing Prices by Category\", fontsize=24);"
   ]
  },
  {
   "cell_type": "markdown",
   "metadata": {},
   "source": [
    "As we expected, the `misc.forsale` category looks pretty different from the others. More than half of those posts contain prices, whereas the overwhelming majority of posts in other categories do not contain prices. Let's include this in our final model."
   ]
  },
  {
   "cell_type": "markdown",
   "metadata": {},
   "source": [
    "#### Contains an Emoticon\n",
    "\n",
    "This is a bit silly, but we were wondering whether different categories feature different numbers of emoticons.\n",
    "\n",
    "Here we define an emoticon as an ASCII character representing eyes, an optional ASCII character representing a nose, and an ASCII character representing a mouth."
   ]
  },
  {
   "cell_type": "code",
   "execution_count": null,
   "metadata": {},
   "outputs": [],
   "source": [
    "# Run this cell without changes\n",
    "\n",
    "emoticon_query = r'(?:[\\:;X=B][-^]?[)\\]3D([OP/\\\\|])(?:(?=\\s))'\n",
    "\n",
    "X_train[\"contains_emoticon\"] = X_train[\"text\"].str.contains(emoticon_query)\n",
    "\n",
    "fig, axes = setup_five_subplots()\n",
    "plot_distribution_of_column_by_category(\"contains_emoticon\", axes, \"Freqency of Posts Containing Emoticons for\")\n",
    "fig.suptitle(\"Distributions of Posts Containing Emoticons by Category\", fontsize=24);"
   ]
  },
  {
   "cell_type": "markdown",
   "metadata": {},
   "source": [
    "Well, that was a lot less definitive. Emoticons are fairly rare across categories. But, there are some small differences so let's go ahead and keep it."
   ]
  },
  {
   "cell_type": "markdown",
   "metadata": {},
   "source": [
    "#### Modeling with Vectorized Features + Engineered Features \n",
    "\n",
    "Let's combine our best vectorizer with these new features:"
   ]
  },
  {
   "cell_type": "code",
   "execution_count": null,
   "metadata": {},
   "outputs": [],
   "source": [
    "# Run this cell without changes\n",
    "\n",
    "# Instantiate the vectorizer\n",
    "tfidf = TfidfVectorizer(\n",
    "    max_features=10,\n",
    "    stop_words=stemmed_stopwords,\n",
    "    tokenizer=stem_and_tokenize\n",
    ")\n",
    "\n",
    "# Fit the vectorizer on X_train[\"text\"] and transform it\n",
    "X_train_vectorized = tfidf.fit_transform(X_train[\"text\"])\n",
    "\n",
    "# Create a full df of vectorized + engineered features\n",
    "X_train_vectorized_df = pd.DataFrame(X_train_vectorized.toarray(), columns=tfidf.get_feature_names())\n",
    "preprocessed_X_train = pd.concat([\n",
    "    X_train_vectorized_df, X_train[[\"num_sentences\", \"contains_price\", \"contains_emoticon\"]]\n",
    "], axis=1)\n",
    "preprocessed_X_train"
   ]
  },
  {
   "cell_type": "code",
   "execution_count": null,
   "metadata": {},
   "outputs": [],
   "source": [
    "# Run this cell without changes\n",
    "preprocessed_cv = cross_val_score(baseline_model, preprocessed_X_train, y_train)\n",
    "preprocessed_cv"
   ]
  },
  {
   "cell_type": "code",
   "execution_count": null,
   "metadata": {},
   "outputs": [],
   "source": [
    "# Run this cell without changes\n",
    "print(\"Stemmed:           \", stemmed_cv.mean())\n",
    "print(\"Fully preprocessed:\", preprocessed_cv.mean())"
   ]
  },
  {
   "cell_type": "markdown",
   "metadata": {},
   "source": [
    "Ok, another small improvement! We're still a bit below 50% accuracy, but we're getting improvements every time."
   ]
  },
  {
   "cell_type": "markdown",
   "metadata": {},
   "source": [
    "### Increasing `max_features`\n",
    "\n",
    "Right now we are only allowing the model to look at the tf-idf of the top 10 most frequent tokens. If we allow it to look at all possible tokens, that could lead to high dimensionality issues (especially if we have more rows than columns), but there is a lot of room between 10 and `len(X_train)` features:"
   ]
  },
  {
   "cell_type": "code",
   "execution_count": null,
   "metadata": {},
   "outputs": [],
   "source": [
    "# Run this cell without changes\n",
    "len(X_train)"
   ]
  },
  {
   "cell_type": "markdown",
   "metadata": {},
   "source": [
    "(In other words, setting `max_features` to 2838 would mean an equal number of rows and columns, something that can cause problems for many model algorithms.)\n",
    "\n",
    "Let's try increasing `max_features` from 10 to 200:"
   ]
  },
  {
   "cell_type": "code",
   "execution_count": null,
   "metadata": {},
   "outputs": [],
   "source": [
    "# Replace None with appropriate code\n",
    "\n",
    "# Instantiate the vectorizer\n",
    "tfidf = TfidfVectorizer(\n",
    "    max_features=None,\n",
    "    stop_words=stemmed_stopwords,\n",
    "    tokenizer=stem_and_tokenize\n",
    ")\n",
    "\n",
    "# Fit the vectorizer on X_train[\"text\"] and transform it\n",
    "X_train_vectorized = tfidf.fit_transform(X_train[\"text\"])\n",
    "\n",
    "# Create a full df of vectorized + engineered features\n",
    "X_train_vectorized_df = pd.DataFrame(X_train_vectorized.toarray(), columns=tfidf.get_feature_names())\n",
    "final_X_train = pd.concat([\n",
    "    X_train_vectorized_df, X_train[[\"num_sentences\", \"contains_price\", \"contains_emoticon\"]]\n",
    "], axis=1)\n",
    "final_X_train"
   ]
  },
  {
   "cell_type": "code",
   "execution_count": null,
   "metadata": {},
   "outputs": [],
   "source": [
    "# Run this cell without changes\n",
    "\n",
    "final_cv = cross_val_score(baseline_model, final_X_train, y_train)\n",
    "final_cv"
   ]
  },
  {
   "cell_type": "markdown",
   "metadata": {},
   "source": [
    "Nice! Our model was able to learn a lot more with these added features. Let's say this is our final modeling process and move on to a final evaluation."
   ]
  },
  {
   "cell_type": "markdown",
   "metadata": {},
   "source": [
    "## 5. Evaluate a Final Model on the Test Set\n",
    "\n",
    "Instantiate the model, fit it on the full training set and check the score:"
   ]
  },
  {
   "cell_type": "code",
   "execution_count": null,
   "metadata": {},
   "outputs": [],
   "source": [
    "# Run this cell without changes\n",
    "final_model = MultinomialNB()\n",
    "\n",
    "final_model.fit(final_X_train, y_train)\n",
    "final_model.score(final_X_train, y_train)"
   ]
  },
  {
   "cell_type": "markdown",
   "metadata": {},
   "source": [
    "Create a vectorized version of `X_test`'s text:"
   ]
  },
  {
   "cell_type": "code",
   "execution_count": null,
   "metadata": {},
   "outputs": [],
   "source": [
    "# Run this cell without changes\n",
    "\n",
    "# Note that we just transform, don't fit_transform\n",
    "X_test_vectorized = tfidf.transform(X_test[\"text\"])"
   ]
  },
  {
   "cell_type": "markdown",
   "metadata": {},
   "source": [
    "Feature engineering for `X_test`:"
   ]
  },
  {
   "cell_type": "code",
   "execution_count": null,
   "metadata": {},
   "outputs": [],
   "source": [
    "# Run this cell without changes\n",
    "X_test[\"num_sentences\"] = X_test[\"text\"].apply(lambda x: len(sent_tokenize(x)))\n",
    "X_test[\"contains_price\"] = X_test[\"text\"].str.contains(price_query)\n",
    "X_test[\"contains_emoticon\"] = X_test[\"text\"].str.contains(emoticon_query)"
   ]
  },
  {
   "cell_type": "markdown",
   "metadata": {},
   "source": [
    "Putting it all together:"
   ]
  },
  {
   "cell_type": "code",
   "execution_count": null,
   "metadata": {},
   "outputs": [],
   "source": [
    "# Run this cell without changes\n",
    "X_test_vectorized_df = pd.DataFrame(X_test_vectorized.toarray(), columns=tfidf.get_feature_names())\n",
    "final_X_test = pd.concat([\n",
    "    X_test_vectorized_df, X_test[[\"num_sentences\", \"contains_price\", \"contains_emoticon\"]]\n",
    "], axis=1)\n",
    "final_X_test"
   ]
  },
  {
   "cell_type": "markdown",
   "metadata": {},
   "source": [
    "Scoring on the test set:"
   ]
  },
  {
   "cell_type": "code",
   "execution_count": null,
   "metadata": {},
   "outputs": [],
   "source": [
    "# Run this cell without changes\n",
    "final_model.score(final_X_test, y_test)"
   ]
  },
  {
   "cell_type": "markdown",
   "metadata": {},
   "source": [
    "Plotting a confusion matrix:"
   ]
  },
  {
   "cell_type": "code",
   "execution_count": null,
   "metadata": {},
   "outputs": [],
   "source": [
    "# Run this cell without changes\n",
    "from sklearn.metrics import plot_confusion_matrix\n",
    "plot_confusion_matrix(final_model, final_X_test, y_test);"
   ]
  },
  {
   "cell_type": "markdown",
   "metadata": {},
   "source": [
    "Recall that these are the names associated with the labels:"
   ]
  },
  {
   "cell_type": "code",
   "execution_count": null,
   "metadata": {},
   "outputs": [],
   "source": [
    "# Run this cell without changes\n",
    "target_values_and_names = train_target_counts.drop(\"count\", axis=1)\n",
    "target_values_and_names"
   ]
  },
  {
   "cell_type": "markdown",
   "metadata": {},
   "source": [
    "### Interpreting Results\n",
    "\n",
    "Interpret the results seen above. How well did the model do? How does it compare to random guessing? What can you say about the cases that the model was most likely to mislabel? If this were a project and you were describing next steps, what might those be?"
   ]
  },
  {
   "cell_type": "code",
   "execution_count": null,
   "metadata": {},
   "outputs": [],
   "source": [
    "# Replace None with appropriate text\n",
    "\"\"\"\n",
    "None\n",
    "\"\"\""
   ]
  },
  {
   "cell_type": "markdown",
   "metadata": {},
   "source": [
    "## Summary\n",
    "\n",
    "In this lab, we used our NLP skills to clean, preprocess, explore, and fit models to text data for classification. This wasn't easy — great job!!"
   ]
  }
 ],
 "metadata": {
  "kernelspec": {
   "display_name": "Python (learn-env)",
   "language": "python",
   "name": "learn-env"
  },
  "language_info": {
   "codemirror_mode": {
    "name": "ipython",
    "version": 3
   },
   "file_extension": ".py",
   "mimetype": "text/x-python",
   "name": "python",
   "nbconvert_exporter": "python",
   "pygments_lexer": "ipython3",
   "version": "3.8.5"
  }
 },
 "nbformat": 4,
 "nbformat_minor": 4
}
